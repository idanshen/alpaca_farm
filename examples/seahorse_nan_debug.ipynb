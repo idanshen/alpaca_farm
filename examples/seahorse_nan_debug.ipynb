{
 "cells": [
  {
   "cell_type": "code",
   "execution_count": 16,
   "metadata": {},
   "outputs": [],
   "source": [
    "import t5_encoder\n",
    "import transformers\n",
    "from transformers import AutoModelForSequenceClassification, AutoTokenizer, Trainer\n",
    "import torch\n",
    "from accelerate.utils import convert_outputs_to_fp32\n",
    "\n",
    "from alpaca_farm import data_utils\n",
    "from argparse import Namespace\n",
    "import pathlib\n",
    "\n",
    "import numpy as np\n",
    "from datasets import load_metric\n",
    "metric = load_metric('accuracy')\n",
    "\n",
    "import os\n",
    "os.environ['CUDA_VISIBLE_DEVICES']='1'\n",
    "\n",
    "data_args = Namespace()\n",
    "data_args.prompt_dict_path = pathlib.Path('./prompts/v0_inputs_noinputs.json')\n",
    "data_args.dataset_path = '../seahorse_data/'\n",
    "data_args.classification_label_key = 'question4'\n",
    "\n",
    "training_args = Namespace()\n",
    "training_args.end_sequence_with_eos = False\n",
    "training_args.reward_model_name_or_path = '/mnt/nfs_csail/models/swhan/alpaca_farm/q_four_flant5/'\n",
    "training_args.transformer_cache_dir = None\n",
    "training_args.flash_attn = False"
   ]
  },
  {
   "cell_type": "code",
   "execution_count": 17,
   "metadata": {},
   "outputs": [],
   "source": [
    "def cast_with_native_amp(func, mixed_precision):\n",
    "    \"\"\"Almost like how huggingface accelerate cast `model.forward`.\"\"\"\n",
    "    if mixed_precision not in (\"fp16\", \"bf16\"):\n",
    "        logger.warning(f\"Unknown mixed precision mode: {mixed_precision}, falling back to fp32.\")\n",
    "        return func\n",
    "\n",
    "    if mixed_precision == \"fp16\":\n",
    "        output_func = torch.cuda.amp.autocast(dtype=torch.float16)(func)\n",
    "    else:\n",
    "        device_type = \"cuda\" if torch.cuda.is_available() else \"cpu\"\n",
    "        output_func = torch.autocast(device_type=device_type, dtype=torch.bfloat16)(func)\n",
    "    output_func = convert_outputs_to_fp32(output_func)\n",
    "    return output_func\n",
    "    \n"
   ]
  },
  {
   "cell_type": "code",
   "execution_count": 23,
   "metadata": {},
   "outputs": [
    {
     "name": "stdout",
     "output_type": "stream",
     "text": [
      "Initializing reward model that is not lora based\n",
      "loading base model /mnt/nfs_csail/models/swhan/alpaca_farm/q_four_flant5/...\n",
      "Loading tokenizer from /mnt/nfs_csail/models/swhan/alpaca_farm/q_four_flant5/\n"
     ]
    }
   ],
   "source": [
    "from alpaca_farm.models.make_models import make_reward_model\n",
    "from alpaca_farm.rl.trainer_utils import _make_padded_tokenizer\n",
    "from alpaca_farm import accelerate_patch\n",
    "\n",
    "# Load the model and tokenizer\n",
    "accelerator = accelerate_patch.MyAccelerator(\n",
    "    gradient_accumulation_steps=1,\n",
    "    mixed_precision='fp16',\n",
    "    even_batches=True,  # Make sure the batch size on each device is the same.\n",
    "    split_batches=False,  # Don't break a batch into smaller chunks.\n",
    "    step_scheduler_with_optimizer=False,  # Untie optimizer and scheduler step.\n",
    "    # Value model might not use all parameters (e.g., lm-head) in the forward pass.\n",
    ")\n",
    "model = make_reward_model(training_args, accelerator, is_trainable=False)\n",
    "tokenizer = _make_padded_tokenizer(training_args.reward_model_name_or_path, cache_dir=None, use_fast_tokenizer=False)\n",
    "# model = AutoModelForSequenceClassification.from_pretrained('/mnt/nfs_csail/models/swhan/alpaca_farm/q_four_flant5/')\n",
    "model.forward = cast_with_native_amp(model.forward, 'bf16')\n",
    "# tokenizer = AutoTokenizer.from_pretrained('google/flan-t5-large', model_max_length=1024)"
   ]
  },
  {
   "cell_type": "code",
   "execution_count": 19,
   "metadata": {},
   "outputs": [],
   "source": [
    "from typing import Optional\n",
    "\n",
    "def compute_metrics(eval_pred):\n",
    "    predictions, labels = eval_pred\n",
    "    predictions = np.argmax(predictions, axis=1)\n",
    "    metrics = metric.compute(predictions=predictions, references=labels)\n",
    "    if np.all(predictions==0) or np.all(predictions==1):\n",
    "        metrics['pearson'] = 0\n",
    "    else:\n",
    "        metrics['pearson'] = np.corrcoef(labels.squeeze(), predictions)[0,1]\n",
    "    print(metrics)\n",
    "    return metrics\n",
    "\n",
    "def format_prompt(example: dict, prompt_dict: dict) -> str:\n",
    "    \"\"\"Formats a prompt with a prompt_dict formatter.\n",
    "\n",
    "    Args:\n",
    "        example: A dict-like object with required keys \"instruction\" and \"input\"\n",
    "        prompt_dict: Dictionary containing the keys \"prompt_noinputs\" and \"prompt_inputs\" which have\n",
    "            placeholders corresponding to the keys from `example`. E.g. \"{instruction}\".\n",
    "\n",
    "    Returns:\n",
    "        A formatted prompt string.\n",
    "\n",
    "    Examples\n",
    "    --------\n",
    "    >>> format_prompt(dict(instruction=\"test\", input=\"\"), prompt_dict=dict(prompt_noinputs=\"prompt {instruction} \"))\n",
    "    \"prompt test\"\n",
    "    \"\"\"\n",
    "    assert \"instruction\" in example and \"input\" in example, \"Internal error: example missing required keys.\"\n",
    "\n",
    "    if example[\"input\"] is None or len(example[\"input\"]) == 0:\n",
    "        formatted_prompt = prompt_dict[\"prompt_noinputs\"].format_map(example)\n",
    "    else:\n",
    "        formatted_prompt = prompt_dict[\"prompt_inputs\"].format_map(example)\n",
    "\n",
    "    return formatted_prompt\n",
    "\n",
    "\n",
    "def format_output_word_by_word(example: dict, eos_token: Optional[str] = None, output_key=\"output\") -> str:\n",
    "    if eos_token is None:\n",
    "        eos_token = \"\"\n",
    "    output = f\"{example[output_key]}{eos_token}\"\n",
    "    return output.split()\n",
    "\n",
    "def format_output(example: dict, eos_token: Optional[str] = None, output_key=\"output\") -> str:\n",
    "    if eos_token is None:\n",
    "        eos_token = \"\"\n",
    "    output = f\"{example[output_key]}{eos_token}\"\n",
    "    return output\n",
    "\n",
    "def _get_text(example: dict, output_key: str):\n",
    "    example['instruction'] = INSTRUCTIONS['seahorse_data']\n",
    "    example['input'] = example['text']\n",
    "    source = format_prompt(example, prompt_dict=prompt_dict)\n",
    "    target = format_output(\n",
    "        example,\n",
    "        eos_token=tokenizer.eos_token if training_args.end_sequence_with_eos else None,\n",
    "        output_key=output_key,\n",
    "    )\n",
    "    return source + ' ' + target\n",
    "\n",
    "def _get_text_target_word_by_word(example: dict, output_key: str):\n",
    "    example['instruction'] = INSTRUCTIONS['seahorse_data']\n",
    "    example['input'] = example['text']\n",
    "    source = format_prompt(example, prompt_dict=prompt_dict)\n",
    "    target = format_output_word_by_word(\n",
    "        example,\n",
    "        eos_token=tokenizer.eos_token if training_args.end_sequence_with_eos else None,\n",
    "        output_key=output_key,\n",
    "    )\n",
    "    return [source + ' ' + ' '.join(target[:t]) for t in range(len(target))], target"
   ]
  },
  {
   "cell_type": "code",
   "execution_count": 20,
   "metadata": {},
   "outputs": [],
   "source": [
    "# data_module = data_utils.make_classification_reward_modeling_data_module(\n",
    "#         tokenizer=tokenizer,\n",
    "#         data_args=data_args,\n",
    "#         training_args=training_args,\n",
    "#     )\n",
    "import datasets\n",
    "from alpaca_farm import utils\n",
    "\n",
    "prompt_dict = utils.jload(data_args.prompt_dict_path)\n",
    "data_files = {\"train\": \"train.json\", \"validation\": \"validation.json\"}\n",
    "dataset_json = datasets.load_dataset(data_args.dataset_path, data_files=data_files)\n",
    "dataset_json = dataset_json.filter(lambda example: example['worker_lang'] == 'en-US')\n",
    "train_dataset = dataset_json['train']\n",
    "eval_dataset = dataset_json['validation']"
   ]
  },
  {
   "cell_type": "code",
   "execution_count": 21,
   "metadata": {},
   "outputs": [
    {
     "name": "stdout",
     "output_type": "stream",
     "text": [
      "0\n",
      "0\n"
     ]
    }
   ],
   "source": [
    "import pandas as pd\n",
    "INSTRUCTIONS = {\n",
    "    'seahorse_data': \"Generate a one-sentence summary of this post.\",\n",
    "}\n",
    "eval_dict_data = pd.DataFrame(eval_dataset).to_dict(orient=\"records\")\n",
    "\n",
    "indices_to_remove = []\n",
    "for i, dict_data in enumerate(eval_dict_data):\n",
    "    if dict_data['text'] is None:\n",
    "        indices_to_remove.append(i)\n",
    "for index in sorted(indices_to_remove, reverse=True):\n",
    "    del eval_dict_data[index]\n",
    "\n",
    "print(len(indices_to_remove))\n",
    "\n",
    "train_dict_data = pd.DataFrame(train_dataset).to_dict(orient=\"records\")\n",
    "\n",
    "indices_to_remove = []\n",
    "for i, dict_data in enumerate(train_dict_data):\n",
    "    if dict_data['text'] is None:\n",
    "        indices_to_remove.append(i)\n",
    "for index in sorted(indices_to_remove, reverse=True):\n",
    "    del train_dict_data[index]\n",
    "\n",
    "print(len(indices_to_remove))"
   ]
  },
  {
   "cell_type": "code",
   "execution_count": 22,
   "metadata": {},
   "outputs": [
    {
     "name": "stderr",
     "output_type": "stream",
     "text": [
      "  0%|▍                                                                                                                                                    | 6/2183 [00:01<07:51,  4.62it/s]"
     ]
    },
    {
     "name": "stdout",
     "output_type": "stream",
     "text": [
      "0.0\n",
      "tensor([nan], device='cuda:0')\n",
      "tensor([nan], device='cuda:0')\n",
      "tensor([nan], device='cuda:0')\n",
      "tensor([nan], device='cuda:0')\n",
      "tensor([nan], device='cuda:0')\n",
      "tensor([nan], device='cuda:0')\n",
      "tensor([nan], device='cuda:0')\n",
      "tensor([nan], device='cuda:0')\n",
      "tensor([nan], device='cuda:0')\n",
      "tensor([nan], device='cuda:0')\n",
      "tensor([nan], device='cuda:0')\n",
      "tensor([nan], device='cuda:0')\n"
     ]
    },
    {
     "name": "stderr",
     "output_type": "stream",
     "text": [
      "  1%|█▎                                                                                                                                                  | 20/2183 [00:01<01:54, 18.83it/s]"
     ]
    },
    {
     "name": "stdout",
     "output_type": "stream",
     "text": [
      "tensor([nan], device='cuda:0')\n",
      "tensor([nan], device='cuda:0')\n",
      "tensor([nan], device='cuda:0')\n",
      "tensor([nan], device='cuda:0')\n",
      "tensor([nan], device='cuda:0')\n",
      "tensor([nan], device='cuda:0')\n",
      "tensor([nan], device='cuda:0')\n",
      "tensor([nan], device='cuda:0')\n",
      "tensor([nan], device='cuda:0')\n",
      "tensor([nan], device='cuda:0')\n",
      "tensor([nan], device='cuda:0')\n",
      "tensor([nan], device='cuda:0')\n",
      "tensor([nan], device='cuda:0')\n"
     ]
    },
    {
     "name": "stderr",
     "output_type": "stream",
     "text": [
      "  1%|██▏                                                                                                                                                 | 32/2183 [00:02<01:11, 30.18it/s]"
     ]
    },
    {
     "name": "stdout",
     "output_type": "stream",
     "text": [
      "tensor([nan], device='cuda:0')\n",
      "tensor([nan], device='cuda:0')\n",
      "tensor([nan], device='cuda:0')\n",
      "tensor([nan], device='cuda:0')\n",
      "tensor([nan], device='cuda:0')\n",
      "tensor([nan], device='cuda:0')\n",
      "tensor([nan], device='cuda:0')\n",
      "tensor([nan], device='cuda:0')\n",
      "tensor([nan], device='cuda:0')\n",
      "tensor([nan], device='cuda:0')\n",
      "tensor([nan], device='cuda:0')\n",
      "tensor([nan], device='cuda:0')\n"
     ]
    },
    {
     "name": "stderr",
     "output_type": "stream",
     "text": [
      "  2%|███                                                                                                                                                 | 46/2183 [00:02<00:49, 43.13it/s]"
     ]
    },
    {
     "name": "stdout",
     "output_type": "stream",
     "text": [
      "tensor([nan], device='cuda:0')\n",
      "tensor([nan], device='cuda:0')\n",
      "tensor([nan], device='cuda:0')\n",
      "tensor([nan], device='cuda:0')\n",
      "tensor([nan], device='cuda:0')\n",
      "tensor([nan], device='cuda:0')\n",
      "tensor([nan], device='cuda:0')\n",
      "tensor([nan], device='cuda:0')\n",
      "tensor([nan], device='cuda:0')\n",
      "tensor([nan], device='cuda:0')\n",
      "tensor([nan], device='cuda:0')\n",
      "tensor([nan], device='cuda:0')\n"
     ]
    },
    {
     "name": "stderr",
     "output_type": "stream",
     "text": [
      "  2%|███▌                                                                                                                                                | 52/2183 [00:02<00:45, 46.55it/s]"
     ]
    },
    {
     "name": "stdout",
     "output_type": "stream",
     "text": [
      "tensor([nan], device='cuda:0')\n",
      "tensor([nan], device='cuda:0')\n",
      "tensor([nan], device='cuda:0')\n",
      "tensor([nan], device='cuda:0')\n",
      "tensor([nan], device='cuda:0')\n"
     ]
    },
    {
     "name": "stderr",
     "output_type": "stream",
     "text": [
      "  3%|███▉                                                                                                                                                | 58/2183 [00:04<03:00, 11.79it/s]"
     ]
    },
    {
     "name": "stdout",
     "output_type": "stream",
     "text": [
      "tensor([nan], device='cuda:0')\n",
      "tensor([nan], device='cuda:0')\n",
      "tensor([nan], device='cuda:0')\n",
      "tensor([nan], device='cuda:0')\n"
     ]
    },
    {
     "name": "stderr",
     "output_type": "stream",
     "text": [
      "\n"
     ]
    },
    {
     "ename": "KeyboardInterrupt",
     "evalue": "",
     "output_type": "error",
     "traceback": [
      "\u001b[0;31m---------------------------------------------------------------------------\u001b[0m",
      "\u001b[0;31mKeyboardInterrupt\u001b[0m                         Traceback (most recent call last)",
      "Cell \u001b[0;32mIn[22], line 12\u001b[0m\n\u001b[1;32m     10\u001b[0m input_ids \u001b[38;5;241m=\u001b[39m tokenizer(sequences, truncation\u001b[38;5;241m=\u001b[39m\u001b[38;5;28;01mTrue\u001b[39;00m, return_tensors\u001b[38;5;241m=\u001b[39m\u001b[38;5;124m'\u001b[39m\u001b[38;5;124mpt\u001b[39m\u001b[38;5;124m'\u001b[39m)[\u001b[38;5;124m'\u001b[39m\u001b[38;5;124minput_ids\u001b[39m\u001b[38;5;124m'\u001b[39m]\n\u001b[1;32m     11\u001b[0m \u001b[38;5;66;03m# with torch.cuda.amp.autocast(enabled=True, dtype=torch.bfloat16):        \u001b[39;00m\n\u001b[0;32m---> 12\u001b[0m outputs \u001b[38;5;241m=\u001b[39m \u001b[43mmodel\u001b[49m\u001b[43m(\u001b[49m\u001b[43minput_ids\u001b[49m\u001b[38;5;241;43m.\u001b[39;49m\u001b[43mcuda\u001b[49m\u001b[43m(\u001b[49m\u001b[43m)\u001b[49m\u001b[43m)\u001b[49m\n\u001b[1;32m     13\u001b[0m rewards \u001b[38;5;241m=\u001b[39m outputs\u001b[38;5;241m.\u001b[39mrewards\n\u001b[1;32m     14\u001b[0m label \u001b[38;5;241m=\u001b[39m eval_dict_data[i][\u001b[38;5;124m'\u001b[39m\u001b[38;5;124mquestion4\u001b[39m\u001b[38;5;124m'\u001b[39m]\n",
      "File \u001b[0;32m~/miniconda3/envs/alpaca/lib/python3.10/site-packages/torch/nn/modules/module.py:1501\u001b[0m, in \u001b[0;36mModule._call_impl\u001b[0;34m(self, *args, **kwargs)\u001b[0m\n\u001b[1;32m   1496\u001b[0m \u001b[38;5;66;03m# If we don't have any hooks, we want to skip the rest of the logic in\u001b[39;00m\n\u001b[1;32m   1497\u001b[0m \u001b[38;5;66;03m# this function, and just call forward.\u001b[39;00m\n\u001b[1;32m   1498\u001b[0m \u001b[38;5;28;01mif\u001b[39;00m \u001b[38;5;129;01mnot\u001b[39;00m (\u001b[38;5;28mself\u001b[39m\u001b[38;5;241m.\u001b[39m_backward_hooks \u001b[38;5;129;01mor\u001b[39;00m \u001b[38;5;28mself\u001b[39m\u001b[38;5;241m.\u001b[39m_backward_pre_hooks \u001b[38;5;129;01mor\u001b[39;00m \u001b[38;5;28mself\u001b[39m\u001b[38;5;241m.\u001b[39m_forward_hooks \u001b[38;5;129;01mor\u001b[39;00m \u001b[38;5;28mself\u001b[39m\u001b[38;5;241m.\u001b[39m_forward_pre_hooks\n\u001b[1;32m   1499\u001b[0m         \u001b[38;5;129;01mor\u001b[39;00m _global_backward_pre_hooks \u001b[38;5;129;01mor\u001b[39;00m _global_backward_hooks\n\u001b[1;32m   1500\u001b[0m         \u001b[38;5;129;01mor\u001b[39;00m _global_forward_hooks \u001b[38;5;129;01mor\u001b[39;00m _global_forward_pre_hooks):\n\u001b[0;32m-> 1501\u001b[0m     \u001b[38;5;28;01mreturn\u001b[39;00m \u001b[43mforward_call\u001b[49m\u001b[43m(\u001b[49m\u001b[38;5;241;43m*\u001b[39;49m\u001b[43margs\u001b[49m\u001b[43m,\u001b[49m\u001b[43m \u001b[49m\u001b[38;5;241;43m*\u001b[39;49m\u001b[38;5;241;43m*\u001b[39;49m\u001b[43mkwargs\u001b[49m\u001b[43m)\u001b[49m\n\u001b[1;32m   1502\u001b[0m \u001b[38;5;66;03m# Do not call functions when jit is used\u001b[39;00m\n\u001b[1;32m   1503\u001b[0m full_backward_hooks, non_full_backward_hooks \u001b[38;5;241m=\u001b[39m [], []\n",
      "File \u001b[0;32m~/miniconda3/envs/alpaca/lib/python3.10/site-packages/accelerate/utils/operations.py:632\u001b[0m, in \u001b[0;36mconvert_outputs_to_fp32.<locals>.forward\u001b[0;34m(*args, **kwargs)\u001b[0m\n\u001b[1;32m    631\u001b[0m \u001b[38;5;28;01mdef\u001b[39;00m \u001b[38;5;21mforward\u001b[39m(\u001b[38;5;241m*\u001b[39margs, \u001b[38;5;241m*\u001b[39m\u001b[38;5;241m*\u001b[39mkwargs):\n\u001b[0;32m--> 632\u001b[0m     \u001b[38;5;28;01mreturn\u001b[39;00m \u001b[43mmodel_forward\u001b[49m\u001b[43m(\u001b[49m\u001b[38;5;241;43m*\u001b[39;49m\u001b[43margs\u001b[49m\u001b[43m,\u001b[49m\u001b[43m \u001b[49m\u001b[38;5;241;43m*\u001b[39;49m\u001b[38;5;241;43m*\u001b[39;49m\u001b[43mkwargs\u001b[49m\u001b[43m)\u001b[49m\n",
      "File \u001b[0;32m~/miniconda3/envs/alpaca/lib/python3.10/site-packages/accelerate/utils/operations.py:620\u001b[0m, in \u001b[0;36mConvertOutputsToFp32.__call__\u001b[0;34m(self, *args, **kwargs)\u001b[0m\n\u001b[1;32m    619\u001b[0m \u001b[38;5;28;01mdef\u001b[39;00m \u001b[38;5;21m__call__\u001b[39m(\u001b[38;5;28mself\u001b[39m, \u001b[38;5;241m*\u001b[39margs, \u001b[38;5;241m*\u001b[39m\u001b[38;5;241m*\u001b[39mkwargs):\n\u001b[0;32m--> 620\u001b[0m     \u001b[38;5;28;01mreturn\u001b[39;00m convert_to_fp32(\u001b[38;5;28;43mself\u001b[39;49m\u001b[38;5;241;43m.\u001b[39;49m\u001b[43mmodel_forward\u001b[49m\u001b[43m(\u001b[49m\u001b[38;5;241;43m*\u001b[39;49m\u001b[43margs\u001b[49m\u001b[43m,\u001b[49m\u001b[43m \u001b[49m\u001b[38;5;241;43m*\u001b[39;49m\u001b[38;5;241;43m*\u001b[39;49m\u001b[43mkwargs\u001b[49m\u001b[43m)\u001b[49m)\n",
      "File \u001b[0;32m~/miniconda3/envs/alpaca/lib/python3.10/site-packages/torch/amp/autocast_mode.py:14\u001b[0m, in \u001b[0;36mautocast_decorator.<locals>.decorate_autocast\u001b[0;34m(*args, **kwargs)\u001b[0m\n\u001b[1;32m     11\u001b[0m \u001b[38;5;129m@functools\u001b[39m\u001b[38;5;241m.\u001b[39mwraps(func)\n\u001b[1;32m     12\u001b[0m \u001b[38;5;28;01mdef\u001b[39;00m \u001b[38;5;21mdecorate_autocast\u001b[39m(\u001b[38;5;241m*\u001b[39margs, \u001b[38;5;241m*\u001b[39m\u001b[38;5;241m*\u001b[39mkwargs):\n\u001b[1;32m     13\u001b[0m     \u001b[38;5;28;01mwith\u001b[39;00m autocast_instance:\n\u001b[0;32m---> 14\u001b[0m         \u001b[38;5;28;01mreturn\u001b[39;00m \u001b[43mfunc\u001b[49m\u001b[43m(\u001b[49m\u001b[38;5;241;43m*\u001b[39;49m\u001b[43margs\u001b[49m\u001b[43m,\u001b[49m\u001b[43m \u001b[49m\u001b[38;5;241;43m*\u001b[39;49m\u001b[38;5;241;43m*\u001b[39;49m\u001b[43mkwargs\u001b[49m\u001b[43m)\u001b[49m\n",
      "File \u001b[0;32m~/projects/alpaca_farm/src/alpaca_farm/models/reward_model.py:144\u001b[0m, in \u001b[0;36mRewardNoLoraModel.forward\u001b[0;34m(self, input_ids, attention_mask, return_dict, **kwargs)\u001b[0m\n\u001b[1;32m    141\u001b[0m \u001b[38;5;28;01mdef\u001b[39;00m \u001b[38;5;21mforward\u001b[39m(\u001b[38;5;28mself\u001b[39m, input_ids, attention_mask\u001b[38;5;241m=\u001b[39m\u001b[38;5;28;01mNone\u001b[39;00m, return_dict\u001b[38;5;241m=\u001b[39m\u001b[38;5;28;01mTrue\u001b[39;00m, \u001b[38;5;241m*\u001b[39m\u001b[38;5;241m*\u001b[39mkwargs):\n\u001b[1;32m    142\u001b[0m     \u001b[38;5;66;03m# We only compute the rewards and don't compute the logistic regression loss in this function so that it's\u001b[39;00m\n\u001b[1;32m    143\u001b[0m     \u001b[38;5;66;03m# easier to use for later stages of reranking / RL training.\u001b[39;00m\n\u001b[0;32m--> 144\u001b[0m     rewards \u001b[38;5;241m=\u001b[39m \u001b[38;5;28;43mself\u001b[39;49m\u001b[38;5;241;43m.\u001b[39;49m\u001b[43mmodel\u001b[49m\u001b[43m(\u001b[49m\u001b[43minput_ids\u001b[49m\u001b[43m,\u001b[49m\u001b[43m \u001b[49m\u001b[43mattention_mask\u001b[49m\u001b[38;5;241;43m=\u001b[39;49m\u001b[43mattention_mask\u001b[49m\u001b[43m,\u001b[49m\u001b[43m \u001b[49m\u001b[43mreturn_dict\u001b[49m\u001b[38;5;241;43m=\u001b[39;49m\u001b[38;5;28;43;01mTrue\u001b[39;49;00m\u001b[43m,\u001b[49m\u001b[43m \u001b[49m\u001b[38;5;241;43m*\u001b[39;49m\u001b[38;5;241;43m*\u001b[39;49m\u001b[43mkwargs\u001b[49m\u001b[43m)\u001b[49m\u001b[38;5;241m.\u001b[39mlogits\u001b[38;5;241m.\u001b[39msqueeze(\u001b[38;5;241m-\u001b[39m\u001b[38;5;241m1\u001b[39m)\n\u001b[1;32m    145\u001b[0m     \u001b[38;5;66;03m# rewards = self.function_to_apply(outputs.logits).squeeze(-1)\u001b[39;00m\n\u001b[1;32m    146\u001b[0m     \n\u001b[1;32m    147\u001b[0m     \u001b[38;5;66;03m# special case of bart summarization reward model, need to take the difference btw faithful (label 1) and hallucination (label 0)\u001b[39;00m\n\u001b[1;32m    148\u001b[0m     \u001b[38;5;28;01mif\u001b[39;00m rewards\u001b[38;5;241m.\u001b[39mshape[\u001b[38;5;241m-\u001b[39m\u001b[38;5;241m1\u001b[39m] \u001b[38;5;241m>\u001b[39m \u001b[38;5;241m1\u001b[39m \u001b[38;5;129;01mand\u001b[39;00m rewards\u001b[38;5;241m.\u001b[39mndim \u001b[38;5;241m==\u001b[39m \u001b[38;5;241m2\u001b[39m:\n",
      "File \u001b[0;32m~/miniconda3/envs/alpaca/lib/python3.10/site-packages/torch/nn/modules/module.py:1501\u001b[0m, in \u001b[0;36mModule._call_impl\u001b[0;34m(self, *args, **kwargs)\u001b[0m\n\u001b[1;32m   1496\u001b[0m \u001b[38;5;66;03m# If we don't have any hooks, we want to skip the rest of the logic in\u001b[39;00m\n\u001b[1;32m   1497\u001b[0m \u001b[38;5;66;03m# this function, and just call forward.\u001b[39;00m\n\u001b[1;32m   1498\u001b[0m \u001b[38;5;28;01mif\u001b[39;00m \u001b[38;5;129;01mnot\u001b[39;00m (\u001b[38;5;28mself\u001b[39m\u001b[38;5;241m.\u001b[39m_backward_hooks \u001b[38;5;129;01mor\u001b[39;00m \u001b[38;5;28mself\u001b[39m\u001b[38;5;241m.\u001b[39m_backward_pre_hooks \u001b[38;5;129;01mor\u001b[39;00m \u001b[38;5;28mself\u001b[39m\u001b[38;5;241m.\u001b[39m_forward_hooks \u001b[38;5;129;01mor\u001b[39;00m \u001b[38;5;28mself\u001b[39m\u001b[38;5;241m.\u001b[39m_forward_pre_hooks\n\u001b[1;32m   1499\u001b[0m         \u001b[38;5;129;01mor\u001b[39;00m _global_backward_pre_hooks \u001b[38;5;129;01mor\u001b[39;00m _global_backward_hooks\n\u001b[1;32m   1500\u001b[0m         \u001b[38;5;129;01mor\u001b[39;00m _global_forward_hooks \u001b[38;5;129;01mor\u001b[39;00m _global_forward_pre_hooks):\n\u001b[0;32m-> 1501\u001b[0m     \u001b[38;5;28;01mreturn\u001b[39;00m \u001b[43mforward_call\u001b[49m\u001b[43m(\u001b[49m\u001b[38;5;241;43m*\u001b[39;49m\u001b[43margs\u001b[49m\u001b[43m,\u001b[49m\u001b[43m \u001b[49m\u001b[38;5;241;43m*\u001b[39;49m\u001b[38;5;241;43m*\u001b[39;49m\u001b[43mkwargs\u001b[49m\u001b[43m)\u001b[49m\n\u001b[1;32m   1502\u001b[0m \u001b[38;5;66;03m# Do not call functions when jit is used\u001b[39;00m\n\u001b[1;32m   1503\u001b[0m full_backward_hooks, non_full_backward_hooks \u001b[38;5;241m=\u001b[39m [], []\n",
      "File \u001b[0;32m~/miniconda3/envs/alpaca/lib/python3.10/site-packages/t5_encoder/modeling_t5.py:252\u001b[0m, in \u001b[0;36mT5ForSequenceClassification.forward\u001b[0;34m(self, input_ids, attention_mask, head_mask, inputs_embeds, labels, output_attentions, output_hidden_states, return_dict)\u001b[0m\n\u001b[1;32m    243\u001b[0m \u001b[38;5;250m\u001b[39m\u001b[38;5;124mr\u001b[39m\u001b[38;5;124;03m\"\"\"\u001b[39;00m\n\u001b[1;32m    244\u001b[0m \u001b[38;5;124;03mlabels (`torch.LongTensor` of shape `(batch_size, sequence_length)`, *optional*):\u001b[39;00m\n\u001b[1;32m    245\u001b[0m \u001b[38;5;124;03m    Labels for computing the token classification loss. Indices should be in `[0, ..., config.num_labels - 1]`.\u001b[39;00m\n\u001b[0;32m   (...)\u001b[0m\n\u001b[1;32m    248\u001b[0m \n\u001b[1;32m    249\u001b[0m \u001b[38;5;124;03m\"\"\"\u001b[39;00m\n\u001b[1;32m    250\u001b[0m return_dict \u001b[38;5;241m=\u001b[39m return_dict \u001b[38;5;28;01mif\u001b[39;00m return_dict \u001b[38;5;129;01mis\u001b[39;00m \u001b[38;5;129;01mnot\u001b[39;00m \u001b[38;5;28;01mNone\u001b[39;00m \u001b[38;5;28;01melse\u001b[39;00m \u001b[38;5;28mself\u001b[39m\u001b[38;5;241m.\u001b[39mconfig\u001b[38;5;241m.\u001b[39muse_return_dict\n\u001b[0;32m--> 252\u001b[0m outputs \u001b[38;5;241m=\u001b[39m \u001b[38;5;28;43mself\u001b[39;49m\u001b[38;5;241;43m.\u001b[39;49m\u001b[43mencoder\u001b[49m\u001b[43m(\u001b[49m\n\u001b[1;32m    253\u001b[0m \u001b[43m    \u001b[49m\u001b[43minput_ids\u001b[49m\u001b[38;5;241;43m=\u001b[39;49m\u001b[43minput_ids\u001b[49m\u001b[43m,\u001b[49m\n\u001b[1;32m    254\u001b[0m \u001b[43m    \u001b[49m\u001b[43mattention_mask\u001b[49m\u001b[38;5;241;43m=\u001b[39;49m\u001b[43mattention_mask\u001b[49m\u001b[43m,\u001b[49m\n\u001b[1;32m    255\u001b[0m \u001b[43m    \u001b[49m\u001b[43minputs_embeds\u001b[49m\u001b[38;5;241;43m=\u001b[39;49m\u001b[43minputs_embeds\u001b[49m\u001b[43m,\u001b[49m\n\u001b[1;32m    256\u001b[0m \u001b[43m    \u001b[49m\u001b[43mhead_mask\u001b[49m\u001b[38;5;241;43m=\u001b[39;49m\u001b[43mhead_mask\u001b[49m\u001b[43m,\u001b[49m\n\u001b[1;32m    257\u001b[0m \u001b[43m    \u001b[49m\u001b[43moutput_attentions\u001b[49m\u001b[38;5;241;43m=\u001b[39;49m\u001b[43moutput_attentions\u001b[49m\u001b[43m,\u001b[49m\n\u001b[1;32m    258\u001b[0m \u001b[43m    \u001b[49m\u001b[43moutput_hidden_states\u001b[49m\u001b[38;5;241;43m=\u001b[39;49m\u001b[43moutput_hidden_states\u001b[49m\u001b[43m,\u001b[49m\n\u001b[1;32m    259\u001b[0m \u001b[43m    \u001b[49m\u001b[43mreturn_dict\u001b[49m\u001b[38;5;241;43m=\u001b[39;49m\u001b[43mreturn_dict\u001b[49m\u001b[43m,\u001b[49m\n\u001b[1;32m    260\u001b[0m \u001b[43m\u001b[49m\u001b[43m)\u001b[49m\n\u001b[1;32m    262\u001b[0m \u001b[38;5;66;03m# Get last hidden indices\u001b[39;00m\n\u001b[1;32m    263\u001b[0m \u001b[38;5;66;03m# (batch_size) -> (batch_size, 1) -> (batch_size, hidden_size) -> (batch_size, 1, hidden_size)\u001b[39;00m\n\u001b[1;32m    264\u001b[0m \u001b[38;5;66;03m# Calculate the sum of non-padding tokens and subtract 1\u001b[39;00m\n\u001b[1;32m    265\u001b[0m sums \u001b[38;5;241m=\u001b[39m (input_ids \u001b[38;5;241m!=\u001b[39m \u001b[38;5;28mself\u001b[39m\u001b[38;5;241m.\u001b[39mconfig\u001b[38;5;241m.\u001b[39mpad_token_id)\u001b[38;5;241m.\u001b[39msum(dim\u001b[38;5;241m=\u001b[39m\u001b[38;5;241m-\u001b[39m\u001b[38;5;241m1\u001b[39m) \u001b[38;5;241m-\u001b[39m \u001b[38;5;241m1\u001b[39m\n",
      "File \u001b[0;32m~/miniconda3/envs/alpaca/lib/python3.10/site-packages/torch/nn/modules/module.py:1501\u001b[0m, in \u001b[0;36mModule._call_impl\u001b[0;34m(self, *args, **kwargs)\u001b[0m\n\u001b[1;32m   1496\u001b[0m \u001b[38;5;66;03m# If we don't have any hooks, we want to skip the rest of the logic in\u001b[39;00m\n\u001b[1;32m   1497\u001b[0m \u001b[38;5;66;03m# this function, and just call forward.\u001b[39;00m\n\u001b[1;32m   1498\u001b[0m \u001b[38;5;28;01mif\u001b[39;00m \u001b[38;5;129;01mnot\u001b[39;00m (\u001b[38;5;28mself\u001b[39m\u001b[38;5;241m.\u001b[39m_backward_hooks \u001b[38;5;129;01mor\u001b[39;00m \u001b[38;5;28mself\u001b[39m\u001b[38;5;241m.\u001b[39m_backward_pre_hooks \u001b[38;5;129;01mor\u001b[39;00m \u001b[38;5;28mself\u001b[39m\u001b[38;5;241m.\u001b[39m_forward_hooks \u001b[38;5;129;01mor\u001b[39;00m \u001b[38;5;28mself\u001b[39m\u001b[38;5;241m.\u001b[39m_forward_pre_hooks\n\u001b[1;32m   1499\u001b[0m         \u001b[38;5;129;01mor\u001b[39;00m _global_backward_pre_hooks \u001b[38;5;129;01mor\u001b[39;00m _global_backward_hooks\n\u001b[1;32m   1500\u001b[0m         \u001b[38;5;129;01mor\u001b[39;00m _global_forward_hooks \u001b[38;5;129;01mor\u001b[39;00m _global_forward_pre_hooks):\n\u001b[0;32m-> 1501\u001b[0m     \u001b[38;5;28;01mreturn\u001b[39;00m \u001b[43mforward_call\u001b[49m\u001b[43m(\u001b[49m\u001b[38;5;241;43m*\u001b[39;49m\u001b[43margs\u001b[49m\u001b[43m,\u001b[49m\u001b[43m \u001b[49m\u001b[38;5;241;43m*\u001b[39;49m\u001b[38;5;241;43m*\u001b[39;49m\u001b[43mkwargs\u001b[49m\u001b[43m)\u001b[49m\n\u001b[1;32m   1502\u001b[0m \u001b[38;5;66;03m# Do not call functions when jit is used\u001b[39;00m\n\u001b[1;32m   1503\u001b[0m full_backward_hooks, non_full_backward_hooks \u001b[38;5;241m=\u001b[39m [], []\n",
      "File \u001b[0;32m~/miniconda3/envs/alpaca/lib/python3.10/site-packages/transformers/models/t5/modeling_t5.py:1165\u001b[0m, in \u001b[0;36mT5Stack.forward\u001b[0;34m(self, input_ids, attention_mask, encoder_hidden_states, encoder_attention_mask, inputs_embeds, head_mask, cross_attn_head_mask, past_key_values, use_cache, output_attentions, output_hidden_states, return_dict)\u001b[0m\n\u001b[1;32m   1162\u001b[0m             \u001b[38;5;28;01mif\u001b[39;00m i \u001b[38;5;241m==\u001b[39m v[\u001b[38;5;241m-\u001b[39m\u001b[38;5;241m1\u001b[39m] \u001b[38;5;129;01mand\u001b[39;00m \u001b[38;5;124m\"\u001b[39m\u001b[38;5;124mcuda:\u001b[39m\u001b[38;5;124m\"\u001b[39m \u001b[38;5;241m+\u001b[39m \u001b[38;5;28mstr\u001b[39m(k) \u001b[38;5;241m!=\u001b[39m \u001b[38;5;28mself\u001b[39m\u001b[38;5;241m.\u001b[39mlast_device:\n\u001b[1;32m   1163\u001b[0m                 hidden_states \u001b[38;5;241m=\u001b[39m hidden_states\u001b[38;5;241m.\u001b[39mto(\u001b[38;5;124m\"\u001b[39m\u001b[38;5;124mcuda:\u001b[39m\u001b[38;5;124m\"\u001b[39m \u001b[38;5;241m+\u001b[39m \u001b[38;5;28mstr\u001b[39m(k \u001b[38;5;241m+\u001b[39m \u001b[38;5;241m1\u001b[39m))\n\u001b[0;32m-> 1165\u001b[0m hidden_states \u001b[38;5;241m=\u001b[39m \u001b[38;5;28;43mself\u001b[39;49m\u001b[38;5;241;43m.\u001b[39;49m\u001b[43mfinal_layer_norm\u001b[49m\u001b[43m(\u001b[49m\u001b[43mhidden_states\u001b[49m\u001b[43m)\u001b[49m\n\u001b[1;32m   1166\u001b[0m hidden_states \u001b[38;5;241m=\u001b[39m \u001b[38;5;28mself\u001b[39m\u001b[38;5;241m.\u001b[39mdropout(hidden_states)\n\u001b[1;32m   1168\u001b[0m \u001b[38;5;66;03m# Add last layer\u001b[39;00m\n",
      "File \u001b[0;32m~/miniconda3/envs/alpaca/lib/python3.10/site-packages/torch/nn/modules/module.py:1501\u001b[0m, in \u001b[0;36mModule._call_impl\u001b[0;34m(self, *args, **kwargs)\u001b[0m\n\u001b[1;32m   1496\u001b[0m \u001b[38;5;66;03m# If we don't have any hooks, we want to skip the rest of the logic in\u001b[39;00m\n\u001b[1;32m   1497\u001b[0m \u001b[38;5;66;03m# this function, and just call forward.\u001b[39;00m\n\u001b[1;32m   1498\u001b[0m \u001b[38;5;28;01mif\u001b[39;00m \u001b[38;5;129;01mnot\u001b[39;00m (\u001b[38;5;28mself\u001b[39m\u001b[38;5;241m.\u001b[39m_backward_hooks \u001b[38;5;129;01mor\u001b[39;00m \u001b[38;5;28mself\u001b[39m\u001b[38;5;241m.\u001b[39m_backward_pre_hooks \u001b[38;5;129;01mor\u001b[39;00m \u001b[38;5;28mself\u001b[39m\u001b[38;5;241m.\u001b[39m_forward_hooks \u001b[38;5;129;01mor\u001b[39;00m \u001b[38;5;28mself\u001b[39m\u001b[38;5;241m.\u001b[39m_forward_pre_hooks\n\u001b[1;32m   1499\u001b[0m         \u001b[38;5;129;01mor\u001b[39;00m _global_backward_pre_hooks \u001b[38;5;129;01mor\u001b[39;00m _global_backward_hooks\n\u001b[1;32m   1500\u001b[0m         \u001b[38;5;129;01mor\u001b[39;00m _global_forward_hooks \u001b[38;5;129;01mor\u001b[39;00m _global_forward_pre_hooks):\n\u001b[0;32m-> 1501\u001b[0m     \u001b[38;5;28;01mreturn\u001b[39;00m \u001b[43mforward_call\u001b[49m\u001b[43m(\u001b[49m\u001b[38;5;241;43m*\u001b[39;49m\u001b[43margs\u001b[49m\u001b[43m,\u001b[49m\u001b[43m \u001b[49m\u001b[38;5;241;43m*\u001b[39;49m\u001b[38;5;241;43m*\u001b[39;49m\u001b[43mkwargs\u001b[49m\u001b[43m)\u001b[49m\n\u001b[1;32m   1502\u001b[0m \u001b[38;5;66;03m# Do not call functions when jit is used\u001b[39;00m\n\u001b[1;32m   1503\u001b[0m full_backward_hooks, non_full_backward_hooks \u001b[38;5;241m=\u001b[39m [], []\n",
      "File \u001b[0;32m~/miniconda3/envs/alpaca/lib/python3.10/site-packages/apex/normalization/fused_layer_norm.py:386\u001b[0m, in \u001b[0;36mFusedRMSNorm.forward\u001b[0;34m(self, input)\u001b[0m\n\u001b[1;32m    383\u001b[0m     \u001b[38;5;28;01mreturn\u001b[39;00m manual_rms_norm(\u001b[38;5;28minput\u001b[39m, \u001b[38;5;28mself\u001b[39m\u001b[38;5;241m.\u001b[39mnormalized_shape, \u001b[38;5;28mself\u001b[39m\u001b[38;5;241m.\u001b[39mweight, \u001b[38;5;28mself\u001b[39m\u001b[38;5;241m.\u001b[39meps)\n\u001b[1;32m    385\u001b[0m \u001b[38;5;28;01mif\u001b[39;00m \u001b[38;5;28mself\u001b[39m\u001b[38;5;241m.\u001b[39melementwise_affine:\n\u001b[0;32m--> 386\u001b[0m     \u001b[38;5;28;01mreturn\u001b[39;00m \u001b[43mfused_rms_norm_affine\u001b[49m\u001b[43m(\u001b[49m\u001b[38;5;28;43minput\u001b[39;49m\u001b[43m,\u001b[49m\u001b[43m \u001b[49m\u001b[38;5;28;43mself\u001b[39;49m\u001b[38;5;241;43m.\u001b[39;49m\u001b[43mweight\u001b[49m\u001b[43m,\u001b[49m\u001b[43m \u001b[49m\u001b[38;5;28;43mself\u001b[39;49m\u001b[38;5;241;43m.\u001b[39;49m\u001b[43mnormalized_shape\u001b[49m\u001b[43m,\u001b[49m\u001b[43m \u001b[49m\u001b[38;5;28;43mself\u001b[39;49m\u001b[38;5;241;43m.\u001b[39;49m\u001b[43meps\u001b[49m\u001b[43m)\u001b[49m\n\u001b[1;32m    387\u001b[0m \u001b[38;5;28;01melse\u001b[39;00m:\n\u001b[1;32m    388\u001b[0m     \u001b[38;5;28;01mreturn\u001b[39;00m fused_rms_norm(\u001b[38;5;28minput\u001b[39m, \u001b[38;5;28mself\u001b[39m\u001b[38;5;241m.\u001b[39mnormalized_shape, \u001b[38;5;28mself\u001b[39m\u001b[38;5;241m.\u001b[39meps)\n",
      "File \u001b[0;32m~/miniconda3/envs/alpaca/lib/python3.10/site-packages/apex/normalization/fused_layer_norm.py:189\u001b[0m, in \u001b[0;36mfused_rms_norm_affine\u001b[0;34m(input, weight, normalized_shape, eps)\u001b[0m\n\u001b[1;32m    187\u001b[0m args \u001b[38;5;241m=\u001b[39m _cast_if_autocast_enabled(\u001b[38;5;28minput\u001b[39m, weight, normalized_shape, eps)\n\u001b[1;32m    188\u001b[0m \u001b[38;5;28;01mwith\u001b[39;00m torch\u001b[38;5;241m.\u001b[39mcuda\u001b[38;5;241m.\u001b[39mamp\u001b[38;5;241m.\u001b[39mautocast(enabled\u001b[38;5;241m=\u001b[39m\u001b[38;5;28;01mFalse\u001b[39;00m):\n\u001b[0;32m--> 189\u001b[0m     \u001b[38;5;28;01mreturn\u001b[39;00m \u001b[43mFusedRMSNormAffineFunction\u001b[49m\u001b[38;5;241;43m.\u001b[39;49m\u001b[43mapply\u001b[49m\u001b[43m(\u001b[49m\u001b[38;5;241;43m*\u001b[39;49m\u001b[43margs\u001b[49m\u001b[43m)\u001b[49m\n",
      "File \u001b[0;32m~/miniconda3/envs/alpaca/lib/python3.10/site-packages/torch/autograd/function.py:506\u001b[0m, in \u001b[0;36mFunction.apply\u001b[0;34m(cls, *args, **kwargs)\u001b[0m\n\u001b[1;32m    503\u001b[0m \u001b[38;5;28;01mif\u001b[39;00m \u001b[38;5;129;01mnot\u001b[39;00m torch\u001b[38;5;241m.\u001b[39m_C\u001b[38;5;241m.\u001b[39m_are_functorch_transforms_active():\n\u001b[1;32m    504\u001b[0m     \u001b[38;5;66;03m# See NOTE: [functorch vjp and autograd interaction]\u001b[39;00m\n\u001b[1;32m    505\u001b[0m     args \u001b[38;5;241m=\u001b[39m _functorch\u001b[38;5;241m.\u001b[39mutils\u001b[38;5;241m.\u001b[39munwrap_dead_wrappers(args)\n\u001b[0;32m--> 506\u001b[0m     \u001b[38;5;28;01mreturn\u001b[39;00m \u001b[38;5;28;43msuper\u001b[39;49m\u001b[43m(\u001b[49m\u001b[43m)\u001b[49m\u001b[38;5;241;43m.\u001b[39;49m\u001b[43mapply\u001b[49m\u001b[43m(\u001b[49m\u001b[38;5;241;43m*\u001b[39;49m\u001b[43margs\u001b[49m\u001b[43m,\u001b[49m\u001b[43m \u001b[49m\u001b[38;5;241;43m*\u001b[39;49m\u001b[38;5;241;43m*\u001b[39;49m\u001b[43mkwargs\u001b[49m\u001b[43m)\u001b[49m  \u001b[38;5;66;03m# type: ignore[misc]\u001b[39;00m\n\u001b[1;32m    508\u001b[0m \u001b[38;5;28;01mif\u001b[39;00m \u001b[38;5;28mcls\u001b[39m\u001b[38;5;241m.\u001b[39msetup_context \u001b[38;5;241m==\u001b[39m _SingleLevelFunction\u001b[38;5;241m.\u001b[39msetup_context:\n\u001b[1;32m    509\u001b[0m     \u001b[38;5;28;01mraise\u001b[39;00m \u001b[38;5;167;01mRuntimeError\u001b[39;00m(\n\u001b[1;32m    510\u001b[0m         \u001b[38;5;124m'\u001b[39m\u001b[38;5;124mIn order to use an autograd.Function with functorch transforms \u001b[39m\u001b[38;5;124m'\u001b[39m\n\u001b[1;32m    511\u001b[0m         \u001b[38;5;124m'\u001b[39m\u001b[38;5;124m(vmap, grad, jvp, jacrev, ...), it must override the setup_context \u001b[39m\u001b[38;5;124m'\u001b[39m\n\u001b[1;32m    512\u001b[0m         \u001b[38;5;124m'\u001b[39m\u001b[38;5;124mstaticmethod. For more details, please see \u001b[39m\u001b[38;5;124m'\u001b[39m\n\u001b[1;32m    513\u001b[0m         \u001b[38;5;124m'\u001b[39m\u001b[38;5;124mhttps://pytorch.org/docs/master/notes/extending.func.html\u001b[39m\u001b[38;5;124m'\u001b[39m)\n",
      "File \u001b[0;32m~/miniconda3/envs/alpaca/lib/python3.10/site-packages/apex/normalization/fused_layer_norm.py:69\u001b[0m, in \u001b[0;36mFusedRMSNormAffineFunction.forward\u001b[0;34m(ctx, input, weight, normalized_shape, eps)\u001b[0m\n\u001b[1;32m     67\u001b[0m input_ \u001b[38;5;241m=\u001b[39m \u001b[38;5;28minput\u001b[39m\u001b[38;5;241m.\u001b[39mcontiguous()\n\u001b[1;32m     68\u001b[0m weight_ \u001b[38;5;241m=\u001b[39m weight\u001b[38;5;241m.\u001b[39mcontiguous()\n\u001b[0;32m---> 69\u001b[0m output, invvar \u001b[38;5;241m=\u001b[39m \u001b[43mfused_layer_norm_cuda\u001b[49m\u001b[38;5;241;43m.\u001b[39;49m\u001b[43mrms_forward_affine\u001b[49m\u001b[43m(\u001b[49m\n\u001b[1;32m     70\u001b[0m \u001b[43m    \u001b[49m\u001b[43minput_\u001b[49m\u001b[43m,\u001b[49m\u001b[43m \u001b[49m\u001b[43mctx\u001b[49m\u001b[38;5;241;43m.\u001b[39;49m\u001b[43mnormalized_shape\u001b[49m\u001b[43m,\u001b[49m\u001b[43m \u001b[49m\u001b[43mweight_\u001b[49m\u001b[43m,\u001b[49m\u001b[43m \u001b[49m\u001b[43mctx\u001b[49m\u001b[38;5;241;43m.\u001b[39;49m\u001b[43meps\u001b[49m\u001b[43m)\u001b[49m\n\u001b[1;32m     71\u001b[0m ctx\u001b[38;5;241m.\u001b[39msave_for_backward(input_, weight_, invvar)\n\u001b[1;32m     72\u001b[0m \u001b[38;5;28;01mreturn\u001b[39;00m output\n",
      "\u001b[0;31mKeyboardInterrupt\u001b[0m: "
     ]
    }
   ],
   "source": [
    "import torch\n",
    "from tqdm import trange\n",
    "num_correct = 0.\n",
    "num_total = 0.\n",
    "model = model.cuda()\n",
    "model.eval()\n",
    "with torch.no_grad():\n",
    "    for i in trange(len(eval_dataset)):\n",
    "        sequences = _get_text(eval_dict_data[i], 'summary')\n",
    "        input_ids = tokenizer(sequences, truncation=True, return_tensors='pt')['input_ids']\n",
    "        # with torch.cuda.amp.autocast(enabled=True, dtype=torch.bfloat16):        \n",
    "        outputs = model(input_ids.cuda())\n",
    "        rewards = outputs.rewards\n",
    "        label = eval_dict_data[i]['question4']\n",
    "        pred = 1. if rewards > 0 else 0.\n",
    "        if pred == label:\n",
    "            num_correct +=1\n",
    "        num_total +=1\n",
    "\n",
    "        if i % 100 == 0:\n",
    "            print(num_correct/num_total)\n",
    "        if torch.isnan(rewards).any() or torch.isinf(rewards).any():\n",
    "            print(rewards)"
   ]
  },
  {
   "cell_type": "code",
   "execution_count": null,
   "metadata": {},
   "outputs": [],
   "source": []
  }
 ],
 "metadata": {
  "kernelspec": {
   "display_name": "Python 3 (ipykernel)",
   "language": "python",
   "name": "python3"
  },
  "language_info": {
   "codemirror_mode": {
    "name": "ipython",
    "version": 3
   },
   "file_extension": ".py",
   "mimetype": "text/x-python",
   "name": "python",
   "nbconvert_exporter": "python",
   "pygments_lexer": "ipython3",
   "version": "3.10.13"
  }
 },
 "nbformat": 4,
 "nbformat_minor": 4
}
