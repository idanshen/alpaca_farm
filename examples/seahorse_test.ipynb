{
 "cells": [
  {
   "cell_type": "code",
   "execution_count": 11,
   "metadata": {},
   "outputs": [],
   "source": [
    "import t5_encoder\n",
    "import transformers\n",
    "from transformers import AutoModelForSequenceClassification, AutoTokenizer, Trainer\n",
    "import torch\n",
    "from accelerate.utils import convert_outputs_to_fp32\n",
    "\n",
    "from alpaca_farm import data_utils\n",
    "from argparse import Namespace\n",
    "import pathlib\n",
    "\n",
    "import numpy as np\n",
    "from datasets import load_metric\n",
    "metric = load_metric('accuracy')\n",
    "\n",
    "data_args = Namespace()\n",
    "data_args.prompt_dict_path = pathlib.Path('./prompts/v0_inputs_noinputs.json')\n",
    "data_args.dataset_path = '../seahorse_data/'\n",
    "data_args.classification_label_key = 'question4'\n",
    "\n",
    "training_args = Namespace()\n",
    "training_args.end_sequence_with_eos = False"
   ]
  },
  {
   "cell_type": "code",
   "execution_count": 12,
   "metadata": {},
   "outputs": [],
   "source": [
    "def cast_with_native_amp(func, mixed_precision):\n",
    "    \"\"\"Almost like how huggingface accelerate cast `model.forward`.\"\"\"\n",
    "    if mixed_precision not in (\"fp16\", \"bf16\"):\n",
    "        logger.warning(f\"Unknown mixed precision mode: {mixed_precision}, falling back to fp32.\")\n",
    "        return func\n",
    "\n",
    "    if mixed_precision == \"fp16\":\n",
    "        output_func = torch.cuda.amp.autocast(dtype=torch.float16)(func)\n",
    "    else:\n",
    "        device_type = \"cuda\" if torch.cuda.is_available() else \"cpu\"\n",
    "        output_func = torch.autocast(device_type=device_type, dtype=torch.bfloat16)(func)\n",
    "    output_func = convert_outputs_to_fp32(output_func)\n",
    "    return output_func\n",
    "    \n"
   ]
  },
  {
   "cell_type": "code",
   "execution_count": 13,
   "metadata": {},
   "outputs": [],
   "source": [
    "# Load the model and tokenizer\n",
    "model = AutoModelForSequenceClassification.from_pretrained('/mnt/nfs_csail/models/swhan/alpaca_farm/q_four_flant5/')\n",
    "model.forward = cast_with_native_amp(model.forward, 'bf16')\n",
    "tokenizer = AutoTokenizer.from_pretrained('google/flan-t5-large', model_max_length=1024)"
   ]
  },
  {
   "cell_type": "code",
   "execution_count": 14,
   "metadata": {},
   "outputs": [],
   "source": [
    "from typing import Optional\n",
    "\n",
    "def compute_metrics(eval_pred):\n",
    "    predictions, labels = eval_pred\n",
    "    predictions = np.argmax(predictions, axis=1)\n",
    "    metrics = metric.compute(predictions=predictions, references=labels)\n",
    "    if np.all(predictions==0) or np.all(predictions==1):\n",
    "        metrics['pearson'] = 0\n",
    "    else:\n",
    "        metrics['pearson'] = np.corrcoef(labels.squeeze(), predictions)[0,1]\n",
    "    print(metrics)\n",
    "    return metrics\n",
    "\n",
    "def format_prompt(example: dict, prompt_dict: dict) -> str:\n",
    "    \"\"\"Formats a prompt with a prompt_dict formatter.\n",
    "\n",
    "    Args:\n",
    "        example: A dict-like object with required keys \"instruction\" and \"input\"\n",
    "        prompt_dict: Dictionary containing the keys \"prompt_noinputs\" and \"prompt_inputs\" which have\n",
    "            placeholders corresponding to the keys from `example`. E.g. \"{instruction}\".\n",
    "\n",
    "    Returns:\n",
    "        A formatted prompt string.\n",
    "\n",
    "    Examples\n",
    "    --------\n",
    "    >>> format_prompt(dict(instruction=\"test\", input=\"\"), prompt_dict=dict(prompt_noinputs=\"prompt {instruction} \"))\n",
    "    \"prompt test\"\n",
    "    \"\"\"\n",
    "    assert \"instruction\" in example and \"input\" in example, \"Internal error: example missing required keys.\"\n",
    "\n",
    "    if example[\"input\"] is None or len(example[\"input\"]) == 0:\n",
    "        formatted_prompt = prompt_dict[\"prompt_noinputs\"].format_map(example)\n",
    "    else:\n",
    "        formatted_prompt = prompt_dict[\"prompt_inputs\"].format_map(example)\n",
    "\n",
    "    return formatted_prompt\n",
    "\n",
    "\n",
    "def format_output_word_by_word(example: dict, eos_token: Optional[str] = None, output_key=\"output\") -> str:\n",
    "    if eos_token is None:\n",
    "        eos_token = \"\"\n",
    "    output = f\"{example[output_key]}{eos_token}\"\n",
    "    return output.split()\n",
    "\n",
    "def format_output(example: dict, eos_token: Optional[str] = None, output_key=\"output\") -> str:\n",
    "    if eos_token is None:\n",
    "        eos_token = \"\"\n",
    "    output = f\"{example[output_key]}{eos_token}\"\n",
    "    return output\n",
    "\n",
    "def _get_text(example: dict, output_key: str):\n",
    "    example['instruction'] = INSTRUCTIONS['seahorse_data']\n",
    "    example['input'] = example['text']\n",
    "    source = format_prompt(example, prompt_dict=prompt_dict)\n",
    "    target = format_output(\n",
    "        example,\n",
    "        eos_token=tokenizer.eos_token if training_args.end_sequence_with_eos else None,\n",
    "        output_key=output_key,\n",
    "    )\n",
    "    return source + ' ' + target\n",
    "\n",
    "def _get_text_target_word_by_word(example: dict, output_key: str):\n",
    "    example['instruction'] = INSTRUCTIONS['seahorse_data']\n",
    "    example['input'] = example['text']\n",
    "    source = format_prompt(example, prompt_dict=prompt_dict)\n",
    "    target = format_output_word_by_word(\n",
    "        example,\n",
    "        eos_token=tokenizer.eos_token if training_args.end_sequence_with_eos else None,\n",
    "        output_key=output_key,\n",
    "    )\n",
    "    return [source + ' ' + ' '.join(target[:t]) for t in range(len(target))], target"
   ]
  },
  {
   "cell_type": "code",
   "execution_count": 15,
   "metadata": {},
   "outputs": [],
   "source": [
    "# data_module = data_utils.make_classification_reward_modeling_data_module(\n",
    "#         tokenizer=tokenizer,\n",
    "#         data_args=data_args,\n",
    "#         training_args=training_args,\n",
    "#     )\n",
    "import datasets\n",
    "from alpaca_farm import utils\n",
    "\n",
    "prompt_dict = utils.jload(data_args.prompt_dict_path)\n",
    "data_files = {\"train\": \"train.json\", \"validation\": \"validation.json\"}\n",
    "dataset_json = datasets.load_dataset(data_args.dataset_path, data_files=data_files)\n",
    "dataset_json = dataset_json.filter(lambda example: example['worker_lang'] == 'en-US')\n",
    "train_dataset = dataset_json['train']\n",
    "eval_dataset = dataset_json['validation']"
   ]
  },
  {
   "cell_type": "code",
   "execution_count": 16,
   "metadata": {},
   "outputs": [
    {
     "name": "stdout",
     "output_type": "stream",
     "text": [
      "0\n",
      "0\n"
     ]
    }
   ],
   "source": [
    "import pandas as pd\n",
    "INSTRUCTIONS = {\n",
    "    'seahorse_data': \"Generate a one-sentence summary of this post.\",\n",
    "}\n",
    "eval_dict_data = pd.DataFrame(eval_dataset).to_dict(orient=\"records\")\n",
    "\n",
    "indices_to_remove = []\n",
    "for i, dict_data in enumerate(eval_dict_data):\n",
    "    if dict_data['text'] is None:\n",
    "        indices_to_remove.append(i)\n",
    "for index in sorted(indices_to_remove, reverse=True):\n",
    "    del eval_dict_data[index]\n",
    "\n",
    "print(len(indices_to_remove))\n",
    "\n",
    "train_dict_data = pd.DataFrame(train_dataset).to_dict(orient=\"records\")\n",
    "\n",
    "indices_to_remove = []\n",
    "for i, dict_data in enumerate(train_dict_data):\n",
    "    if dict_data['text'] is None:\n",
    "        indices_to_remove.append(i)\n",
    "for index in sorted(indices_to_remove, reverse=True):\n",
    "    del train_dict_data[index]\n",
    "\n",
    "print(len(indices_to_remove))"
   ]
  },
  {
   "cell_type": "code",
   "execution_count": 7,
   "metadata": {},
   "outputs": [
    {
     "ename": "IndexError",
     "evalue": "list index out of range",
     "output_type": "error",
     "traceback": [
      "\u001b[0;31m---------------------------------------------------------------------------\u001b[0m",
      "\u001b[0;31mIndexError\u001b[0m                                Traceback (most recent call last)",
      "Cell \u001b[0;32mIn[7], line 1\u001b[0m\n\u001b[0;32m----> 1\u001b[0m \u001b[43meval_dict_data\u001b[49m\u001b[43m[\u001b[49m\u001b[43mi\u001b[49m\u001b[43m]\u001b[49m[\u001b[38;5;124m'\u001b[39m\u001b[38;5;124mquestion4\u001b[39m\u001b[38;5;124m'\u001b[39m]\n",
      "\u001b[0;31mIndexError\u001b[0m: list index out of range"
     ]
    }
   ],
   "source": [
    "eval_dict_data[i]['question4']"
   ]
  },
  {
   "cell_type": "code",
   "execution_count": 22,
   "metadata": {},
   "outputs": [
    {
     "name": "stderr",
     "output_type": "stream",
     "text": [
      "  0%|                                                                                              | 3/14755 [00:00<17:33, 14.00it/s]"
     ]
    },
    {
     "name": "stdout",
     "output_type": "stream",
     "text": [
      "1.0\n"
     ]
    },
    {
     "name": "stderr",
     "output_type": "stream",
     "text": [
      "  1%|▋                                                                                           | 105/14755 [00:03<07:24, 32.93it/s]"
     ]
    },
    {
     "name": "stdout",
     "output_type": "stream",
     "text": [
      "0.8118811881188119\n"
     ]
    },
    {
     "name": "stderr",
     "output_type": "stream",
     "text": [
      "  1%|█▎                                                                                          | 208/14755 [00:05<06:28, 37.44it/s]"
     ]
    },
    {
     "name": "stdout",
     "output_type": "stream",
     "text": [
      "0.8009950248756219\n"
     ]
    },
    {
     "name": "stderr",
     "output_type": "stream",
     "text": [
      "  2%|█▉                                                                                          | 307/14755 [00:08<05:42, 42.15it/s]"
     ]
    },
    {
     "name": "stdout",
     "output_type": "stream",
     "text": [
      "0.7973421926910299\n"
     ]
    },
    {
     "name": "stderr",
     "output_type": "stream",
     "text": [
      "  3%|██▌                                                                                         | 406/14755 [00:11<06:24, 37.32it/s]"
     ]
    },
    {
     "name": "stdout",
     "output_type": "stream",
     "text": [
      "0.7955112219451371\n"
     ]
    },
    {
     "name": "stderr",
     "output_type": "stream",
     "text": [
      "  3%|███▏                                                                                        | 508/14755 [00:13<05:14, 45.32it/s]"
     ]
    },
    {
     "name": "stdout",
     "output_type": "stream",
     "text": [
      "0.8083832335329342\n"
     ]
    },
    {
     "name": "stderr",
     "output_type": "stream",
     "text": [
      "  4%|███▊                                                                                        | 608/14755 [00:15<05:22, 43.87it/s]"
     ]
    },
    {
     "name": "stdout",
     "output_type": "stream",
     "text": [
      "0.8036605657237936\n"
     ]
    },
    {
     "name": "stderr",
     "output_type": "stream",
     "text": [
      "  5%|████▍                                                                                       | 705/14755 [00:18<05:47, 40.37it/s]"
     ]
    },
    {
     "name": "stdout",
     "output_type": "stream",
     "text": [
      "0.8131241084165478\n"
     ]
    },
    {
     "name": "stderr",
     "output_type": "stream",
     "text": [
      "  5%|█████                                                                                       | 806/14755 [00:20<05:43, 40.66it/s]"
     ]
    },
    {
     "name": "stdout",
     "output_type": "stream",
     "text": [
      "0.8064918851435705\n"
     ]
    },
    {
     "name": "stderr",
     "output_type": "stream",
     "text": [
      "  6%|█████▋                                                                                      | 907/14755 [00:23<06:42, 34.42it/s]"
     ]
    },
    {
     "name": "stdout",
     "output_type": "stream",
     "text": [
      "0.8079911209766926\n"
     ]
    },
    {
     "name": "stderr",
     "output_type": "stream",
     "text": [
      "  7%|██████▏                                                                                    | 1007/14755 [00:26<06:11, 37.05it/s]"
     ]
    },
    {
     "name": "stdout",
     "output_type": "stream",
     "text": [
      "0.8041958041958042\n"
     ]
    },
    {
     "name": "stderr",
     "output_type": "stream",
     "text": [
      "  7%|██████▊                                                                                    | 1106/14755 [00:28<05:36, 40.55it/s]"
     ]
    },
    {
     "name": "stdout",
     "output_type": "stream",
     "text": [
      "0.8074477747502271\n"
     ]
    },
    {
     "name": "stderr",
     "output_type": "stream",
     "text": [
      "  8%|███████▍                                                                                   | 1204/14755 [00:31<05:41, 39.73it/s]"
     ]
    },
    {
     "name": "stdout",
     "output_type": "stream",
     "text": [
      "0.8076602830974188\n"
     ]
    },
    {
     "name": "stderr",
     "output_type": "stream",
     "text": [
      "  9%|████████                                                                                   | 1306/14755 [00:34<05:21, 41.87it/s]"
     ]
    },
    {
     "name": "stdout",
     "output_type": "stream",
     "text": [
      "0.808608762490392\n"
     ]
    },
    {
     "name": "stderr",
     "output_type": "stream",
     "text": [
      " 10%|████████▋                                                                                  | 1407/14755 [00:36<05:38, 39.44it/s]"
     ]
    },
    {
     "name": "stdout",
     "output_type": "stream",
     "text": [
      "0.8094218415417559\n"
     ]
    },
    {
     "name": "stderr",
     "output_type": "stream",
     "text": [
      " 10%|█████████▎                                                                                 | 1505/14755 [00:39<05:07, 43.08it/s]"
     ]
    },
    {
     "name": "stdout",
     "output_type": "stream",
     "text": [
      "0.8107928047968022\n"
     ]
    },
    {
     "name": "stderr",
     "output_type": "stream",
     "text": [
      " 11%|█████████▉                                                                                 | 1609/14755 [00:41<04:57, 44.26it/s]"
     ]
    },
    {
     "name": "stdout",
     "output_type": "stream",
     "text": [
      "0.8107432854465959\n"
     ]
    },
    {
     "name": "stderr",
     "output_type": "stream",
     "text": [
      " 12%|██████████▌                                                                                | 1708/14755 [00:44<05:21, 40.62it/s]"
     ]
    },
    {
     "name": "stdout",
     "output_type": "stream",
     "text": [
      "0.8112874779541446\n"
     ]
    },
    {
     "name": "stderr",
     "output_type": "stream",
     "text": [
      " 12%|███████████▏                                                                               | 1806/14755 [00:47<05:39, 38.14it/s]"
     ]
    },
    {
     "name": "stdout",
     "output_type": "stream",
     "text": [
      "0.8145474736257635\n"
     ]
    },
    {
     "name": "stderr",
     "output_type": "stream",
     "text": [
      " 13%|███████████▊                                                                               | 1907/14755 [00:49<06:01, 35.55it/s]"
     ]
    },
    {
     "name": "stdout",
     "output_type": "stream",
     "text": [
      "0.8148342977380326\n"
     ]
    },
    {
     "name": "stderr",
     "output_type": "stream",
     "text": [
      " 14%|████████████▎                                                                              | 2005/14755 [00:52<06:11, 34.33it/s]"
     ]
    },
    {
     "name": "stdout",
     "output_type": "stream",
     "text": [
      "0.816591704147926\n"
     ]
    },
    {
     "name": "stderr",
     "output_type": "stream",
     "text": [
      " 14%|████████████▉                                                                              | 2107/14755 [00:55<05:42, 36.97it/s]"
     ]
    },
    {
     "name": "stdout",
     "output_type": "stream",
     "text": [
      "0.8134221799143265\n"
     ]
    },
    {
     "name": "stderr",
     "output_type": "stream",
     "text": [
      " 15%|█████████████▌                                                                             | 2206/14755 [00:57<04:34, 45.70it/s]"
     ]
    },
    {
     "name": "stdout",
     "output_type": "stream",
     "text": [
      "0.8091776465243071\n"
     ]
    },
    {
     "name": "stderr",
     "output_type": "stream",
     "text": [
      " 16%|██████████████▏                                                                            | 2306/14755 [01:00<05:42, 36.38it/s]"
     ]
    },
    {
     "name": "stdout",
     "output_type": "stream",
     "text": [
      "0.8087787918296393\n"
     ]
    },
    {
     "name": "stderr",
     "output_type": "stream",
     "text": [
      " 16%|██████████████▊                                                                            | 2408/14755 [01:03<05:34, 36.87it/s]"
     ]
    },
    {
     "name": "stdout",
     "output_type": "stream",
     "text": [
      "0.8075801749271136\n"
     ]
    },
    {
     "name": "stderr",
     "output_type": "stream",
     "text": [
      " 17%|███████████████▍                                                                           | 2507/14755 [01:05<04:52, 41.83it/s]"
     ]
    },
    {
     "name": "stdout",
     "output_type": "stream",
     "text": [
      "0.8104758096761295\n"
     ]
    },
    {
     "name": "stderr",
     "output_type": "stream",
     "text": [
      " 18%|████████████████                                                                           | 2605/14755 [01:08<05:03, 39.98it/s]"
     ]
    },
    {
     "name": "stdout",
     "output_type": "stream",
     "text": [
      "0.8116109188773548\n"
     ]
    },
    {
     "name": "stderr",
     "output_type": "stream",
     "text": [
      " 18%|████████████████▋                                                                          | 2706/14755 [01:10<04:47, 41.86it/s]"
     ]
    },
    {
     "name": "stdout",
     "output_type": "stream",
     "text": [
      "0.8145131432802666\n"
     ]
    },
    {
     "name": "stderr",
     "output_type": "stream",
     "text": [
      " 19%|█████████████████▎                                                                         | 2809/14755 [01:13<05:26, 36.55it/s]"
     ]
    },
    {
     "name": "stdout",
     "output_type": "stream",
     "text": [
      "0.8164941092466976\n"
     ]
    },
    {
     "name": "stderr",
     "output_type": "stream",
     "text": [
      " 20%|█████████████████▉                                                                         | 2906/14755 [01:16<06:10, 31.94it/s]"
     ]
    },
    {
     "name": "stdout",
     "output_type": "stream",
     "text": [
      "0.8169596690796277\n"
     ]
    },
    {
     "name": "stderr",
     "output_type": "stream",
     "text": [
      " 20%|██████████████████▌                                                                        | 3006/14755 [01:18<04:59, 39.28it/s]"
     ]
    },
    {
     "name": "stdout",
     "output_type": "stream",
     "text": [
      "0.8173942019326891\n"
     ]
    },
    {
     "name": "stderr",
     "output_type": "stream",
     "text": [
      " 21%|███████████████████▏                                                                       | 3107/14755 [01:21<04:32, 42.72it/s]"
     ]
    },
    {
     "name": "stdout",
     "output_type": "stream",
     "text": [
      "0.8184456626894551\n"
     ]
    },
    {
     "name": "stderr",
     "output_type": "stream",
     "text": [
      " 22%|███████████████████▊                                                                       | 3208/14755 [01:23<04:40, 41.14it/s]"
     ]
    },
    {
     "name": "stdout",
     "output_type": "stream",
     "text": [
      "0.8175570134333021\n"
     ]
    },
    {
     "name": "stderr",
     "output_type": "stream",
     "text": [
      " 22%|████████████████████▍                                                                      | 3305/14755 [01:26<05:18, 36.00it/s]"
     ]
    },
    {
     "name": "stdout",
     "output_type": "stream",
     "text": [
      "0.8179339594062406\n"
     ]
    },
    {
     "name": "stderr",
     "output_type": "stream",
     "text": [
      " 23%|█████████████████████                                                                      | 3406/14755 [01:29<04:53, 38.68it/s]"
     ]
    },
    {
     "name": "stdout",
     "output_type": "stream",
     "text": [
      "0.8182887386062923\n"
     ]
    },
    {
     "name": "stderr",
     "output_type": "stream",
     "text": [
      " 24%|█████████████████████▌                                                                     | 3506/14755 [01:31<05:35, 33.49it/s]"
     ]
    },
    {
     "name": "stdout",
     "output_type": "stream",
     "text": [
      "0.8191945158526135\n"
     ]
    },
    {
     "name": "stderr",
     "output_type": "stream",
     "text": [
      " 24%|██████████████████████▎                                                                    | 3608/14755 [01:34<04:27, 41.75it/s]"
     ]
    },
    {
     "name": "stdout",
     "output_type": "stream",
     "text": [
      "0.8189391835601222\n"
     ]
    },
    {
     "name": "stderr",
     "output_type": "stream",
     "text": [
      " 25%|██████████████████████▊                                                                    | 3707/14755 [01:36<03:59, 46.05it/s]"
     ]
    },
    {
     "name": "stdout",
     "output_type": "stream",
     "text": [
      "0.8189678465279654\n"
     ]
    },
    {
     "name": "stderr",
     "output_type": "stream",
     "text": [
      " 26%|███████████████████████▍                                                                   | 3808/14755 [01:38<04:03, 44.95it/s]"
     ]
    },
    {
     "name": "stdout",
     "output_type": "stream",
     "text": [
      "0.8200473559589582\n"
     ]
    },
    {
     "name": "stderr",
     "output_type": "stream",
     "text": [
      " 26%|████████████████████████                                                                   | 3910/14755 [01:41<04:05, 44.14it/s]"
     ]
    },
    {
     "name": "stdout",
     "output_type": "stream",
     "text": [
      "0.8174826967444245\n"
     ]
    },
    {
     "name": "stderr",
     "output_type": "stream",
     "text": [
      " 27%|████████████████████████▋                                                                  | 4007/14755 [01:43<03:59, 44.90it/s]"
     ]
    },
    {
     "name": "stdout",
     "output_type": "stream",
     "text": [
      "0.8160459885028742\n"
     ]
    },
    {
     "name": "stderr",
     "output_type": "stream",
     "text": [
      " 28%|█████████████████████████▎                                                                 | 4104/14755 [01:45<04:03, 43.69it/s]"
     ]
    },
    {
     "name": "stdout",
     "output_type": "stream",
     "text": [
      "0.8154108753962448\n"
     ]
    },
    {
     "name": "stderr",
     "output_type": "stream",
     "text": [
      " 29%|█████████████████████████▉                                                                 | 4210/14755 [01:48<03:57, 44.43it/s]"
     ]
    },
    {
     "name": "stdout",
     "output_type": "stream",
     "text": [
      "0.8157581528207569\n"
     ]
    },
    {
     "name": "stderr",
     "output_type": "stream",
     "text": [
      " 29%|██████████████████████████▌                                                                | 4308/14755 [01:50<03:34, 48.62it/s]"
     ]
    },
    {
     "name": "stdout",
     "output_type": "stream",
     "text": [
      "0.8153917693559637\n"
     ]
    },
    {
     "name": "stderr",
     "output_type": "stream",
     "text": [
      " 30%|███████████████████████████▏                                                               | 4407/14755 [01:53<04:22, 39.47it/s]"
     ]
    },
    {
     "name": "stdout",
     "output_type": "stream",
     "text": [
      "0.8164053624176324\n"
     ]
    },
    {
     "name": "stderr",
     "output_type": "stream",
     "text": [
      " 31%|███████████████████████████▊                                                               | 4508/14755 [01:55<04:13, 40.47it/s]"
     ]
    },
    {
     "name": "stdout",
     "output_type": "stream",
     "text": [
      "0.8175960897578316\n"
     ]
    },
    {
     "name": "stderr",
     "output_type": "stream",
     "text": [
      " 31%|████████████████████████████▍                                                              | 4607/14755 [01:57<04:11, 40.28it/s]"
     ]
    },
    {
     "name": "stdout",
     "output_type": "stream",
     "text": [
      "0.8187350575961747\n"
     ]
    },
    {
     "name": "stderr",
     "output_type": "stream",
     "text": [
      " 32%|█████████████████████████████                                                              | 4707/14755 [02:00<03:49, 43.70it/s]"
     ]
    },
    {
     "name": "stdout",
     "output_type": "stream",
     "text": [
      "0.818549244841523\n"
     ]
    },
    {
     "name": "stderr",
     "output_type": "stream",
     "text": [
      " 33%|█████████████████████████████▋                                                             | 4805/14755 [02:02<04:06, 40.43it/s]"
     ]
    },
    {
     "name": "stdout",
     "output_type": "stream",
     "text": [
      "0.8198292022495314\n"
     ]
    },
    {
     "name": "stderr",
     "output_type": "stream",
     "text": [
      " 33%|██████████████████████████████▎                                                            | 4907/14755 [02:04<03:58, 41.22it/s]"
     ]
    },
    {
     "name": "stdout",
     "output_type": "stream",
     "text": [
      "0.8202407671903693\n"
     ]
    },
    {
     "name": "stderr",
     "output_type": "stream",
     "text": [
      " 34%|██████████████████████████████▉                                                            | 5007/14755 [02:07<03:46, 42.97it/s]"
     ]
    },
    {
     "name": "stdout",
     "output_type": "stream",
     "text": [
      "0.8198360327934413\n"
     ]
    },
    {
     "name": "stderr",
     "output_type": "stream",
     "text": [
      " 35%|███████████████████████████████▍                                                           | 5104/14755 [02:09<03:47, 42.47it/s]"
     ]
    },
    {
     "name": "stdout",
     "output_type": "stream",
     "text": [
      "0.8190550872377965\n"
     ]
    },
    {
     "name": "stderr",
     "output_type": "stream",
     "text": [
      " 35%|████████████████████████████████                                                           | 5208/14755 [02:12<03:48, 41.85it/s]"
     ]
    },
    {
     "name": "stdout",
     "output_type": "stream",
     "text": [
      "0.8173428186887137\n"
     ]
    },
    {
     "name": "stderr",
     "output_type": "stream",
     "text": [
      " 36%|████████████████████████████████▋                                                          | 5310/14755 [02:14<03:23, 46.50it/s]"
     ]
    },
    {
     "name": "stdout",
     "output_type": "stream",
     "text": [
      "0.8166383701188455\n"
     ]
    },
    {
     "name": "stderr",
     "output_type": "stream",
     "text": [
      " 37%|█████████████████████████████████▎                                                         | 5403/14755 [02:16<03:40, 42.47it/s]"
     ]
    },
    {
     "name": "stdout",
     "output_type": "stream",
     "text": [
      "0.8161451583040178\n"
     ]
    },
    {
     "name": "stderr",
     "output_type": "stream",
     "text": [
      " 37%|█████████████████████████████████▉                                                         | 5509/14755 [02:19<03:37, 42.47it/s]"
     ]
    },
    {
     "name": "stdout",
     "output_type": "stream",
     "text": [
      "0.8163970187238684\n"
     ]
    },
    {
     "name": "stderr",
     "output_type": "stream",
     "text": [
      " 38%|██████████████████████████████████▌                                                        | 5607/14755 [02:21<04:29, 33.97it/s]"
     ]
    },
    {
     "name": "stdout",
     "output_type": "stream",
     "text": [
      "0.815925727548652\n"
     ]
    },
    {
     "name": "stderr",
     "output_type": "stream",
     "text": [
      " 39%|███████████████████████████████████▏                                                       | 5705/14755 [02:23<03:42, 40.66it/s]"
     ]
    },
    {
     "name": "stdout",
     "output_type": "stream",
     "text": [
      "0.815997193474829\n"
     ]
    },
    {
     "name": "stderr",
     "output_type": "stream",
     "text": [
      " 39%|███████████████████████████████████▊                                                       | 5806/14755 [02:26<03:21, 44.43it/s]"
     ]
    },
    {
     "name": "stdout",
     "output_type": "stream",
     "text": [
      "0.8157214273401138\n"
     ]
    },
    {
     "name": "stderr",
     "output_type": "stream",
     "text": [
      " 40%|████████████████████████████████████▍                                                      | 5907/14755 [02:28<03:26, 42.80it/s]"
     ]
    },
    {
     "name": "stdout",
     "output_type": "stream",
     "text": [
      "0.8149466192170819\n"
     ]
    },
    {
     "name": "stderr",
     "output_type": "stream",
     "text": [
      " 41%|█████████████████████████████████████                                                      | 6008/14755 [02:31<03:30, 41.64it/s]"
     ]
    },
    {
     "name": "stdout",
     "output_type": "stream",
     "text": [
      "0.8148641893017831\n"
     ]
    },
    {
     "name": "stderr",
     "output_type": "stream",
     "text": [
      " 41%|█████████████████████████████████████▋                                                     | 6103/14755 [02:33<04:40, 30.80it/s]"
     ]
    },
    {
     "name": "stdout",
     "output_type": "stream",
     "text": [
      "0.8147844615636781\n"
     ]
    },
    {
     "name": "stderr",
     "output_type": "stream",
     "text": [
      " 42%|██████████████████████████████████████▎                                                    | 6207/14755 [02:36<04:26, 32.12it/s]"
     ]
    },
    {
     "name": "stdout",
     "output_type": "stream",
     "text": [
      "0.8153523625221738\n"
     ]
    },
    {
     "name": "stderr",
     "output_type": "stream",
     "text": [
      " 43%|██████████████████████████████████████▉                                                    | 6306/14755 [02:40<04:48, 29.25it/s]"
     ]
    },
    {
     "name": "stdout",
     "output_type": "stream",
     "text": [
      "0.8151087129027138\n"
     ]
    },
    {
     "name": "stderr",
     "output_type": "stream",
     "text": [
      " 43%|███████████████████████████████████████▍                                                   | 6404/14755 [02:43<03:51, 36.09it/s]"
     ]
    },
    {
     "name": "stdout",
     "output_type": "stream",
     "text": [
      "0.8156538040931105\n"
     ]
    },
    {
     "name": "stderr",
     "output_type": "stream",
     "text": [
      " 44%|████████████████████████████████████████▏                                                  | 6507/14755 [02:46<03:58, 34.56it/s]"
     ]
    },
    {
     "name": "stdout",
     "output_type": "stream",
     "text": [
      "0.8151053684048608\n"
     ]
    },
    {
     "name": "stderr",
     "output_type": "stream",
     "text": [
      " 45%|████████████████████████████████████████▋                                                  | 6606/14755 [02:49<04:28, 30.31it/s]"
     ]
    },
    {
     "name": "stdout",
     "output_type": "stream",
     "text": [
      "0.815785487047417\n"
     ]
    },
    {
     "name": "stderr",
     "output_type": "stream",
     "text": [
      " 45%|█████████████████████████████████████████▎                                                 | 6704/14755 [02:52<04:44, 28.32it/s]"
     ]
    },
    {
     "name": "stdout",
     "output_type": "stream",
     "text": [
      "0.8159976122966721\n"
     ]
    },
    {
     "name": "stderr",
     "output_type": "stream",
     "text": [
      " 46%|█████████████████████████████████████████▉                                                 | 6806/14755 [02:56<04:12, 31.46it/s]"
     ]
    },
    {
     "name": "stdout",
     "output_type": "stream",
     "text": [
      "0.8160564622849581\n"
     ]
    },
    {
     "name": "stderr",
     "output_type": "stream",
     "text": [
      " 47%|██████████████████████████████████████████▌                                                | 6907/14755 [02:59<03:52, 33.74it/s]"
     ]
    },
    {
     "name": "stdout",
     "output_type": "stream",
     "text": [
      "0.8165483263295175\n"
     ]
    },
    {
     "name": "stderr",
     "output_type": "stream",
     "text": [
      " 47%|███████████████████████████████████████████▏                                               | 7008/14755 [03:02<03:26, 37.55it/s]"
     ]
    },
    {
     "name": "stdout",
     "output_type": "stream",
     "text": [
      "0.8168833023853735\n"
     ]
    },
    {
     "name": "stderr",
     "output_type": "stream",
     "text": [
      " 48%|███████████████████████████████████████████▊                                               | 7105/14755 [03:04<02:47, 45.80it/s]"
     ]
    },
    {
     "name": "stdout",
     "output_type": "stream",
     "text": [
      "0.8170680185889312\n"
     ]
    },
    {
     "name": "stderr",
     "output_type": "stream",
     "text": [
      " 49%|████████████████████████████████████████████▍                                              | 7207/14755 [03:07<02:57, 42.63it/s]"
     ]
    },
    {
     "name": "stdout",
     "output_type": "stream",
     "text": [
      "0.8154422996805999\n"
     ]
    },
    {
     "name": "stderr",
     "output_type": "stream",
     "text": [
      " 50%|█████████████████████████████████████████████                                              | 7306/14755 [03:09<02:53, 42.94it/s]"
     ]
    },
    {
     "name": "stdout",
     "output_type": "stream",
     "text": [
      "0.8124914395288316\n"
     ]
    },
    {
     "name": "stderr",
     "output_type": "stream",
     "text": [
      " 50%|█████████████████████████████████████████████▋                                             | 7408/14755 [03:11<02:24, 50.89it/s]"
     ]
    },
    {
     "name": "stdout",
     "output_type": "stream",
     "text": [
      "0.8134035941089042\n"
     ]
    },
    {
     "name": "stderr",
     "output_type": "stream",
     "text": [
      " 51%|██████████████████████████████████████████████▎                                            | 7505/14755 [03:13<03:07, 38.66it/s]"
     ]
    },
    {
     "name": "stdout",
     "output_type": "stream",
     "text": [
      "0.8142914278096254\n"
     ]
    },
    {
     "name": "stderr",
     "output_type": "stream",
     "text": [
      " 52%|██████████████████████████████████████████████▉                                            | 7609/14755 [03:16<02:49, 42.28it/s]"
     ]
    },
    {
     "name": "stdout",
     "output_type": "stream",
     "text": [
      "0.8137087225365084\n"
     ]
    },
    {
     "name": "stderr",
     "output_type": "stream",
     "text": [
      " 52%|███████████████████████████████████████████████▌                                           | 7707/14755 [03:18<02:49, 41.48it/s]"
     ]
    },
    {
     "name": "stdout",
     "output_type": "stream",
     "text": [
      "0.8140501233606026\n"
     ]
    },
    {
     "name": "stderr",
     "output_type": "stream",
     "text": [
      " 53%|████████████████████████████████████████████████▏                                          | 7807/14755 [03:21<03:09, 36.75it/s]"
     ]
    },
    {
     "name": "stdout",
     "output_type": "stream",
     "text": [
      "0.8138700166645302\n"
     ]
    },
    {
     "name": "stderr",
     "output_type": "stream",
     "text": [
      " 54%|████████████████████████████████████████████████▊                                          | 7905/14755 [03:23<02:44, 41.75it/s]"
     ]
    },
    {
     "name": "stdout",
     "output_type": "stream",
     "text": [
      "0.8135679027971143\n"
     ]
    },
    {
     "name": "stderr",
     "output_type": "stream",
     "text": [
      " 54%|█████████████████████████████████████████████████▍                                         | 8008/14755 [03:26<02:33, 44.09it/s]"
     ]
    },
    {
     "name": "stdout",
     "output_type": "stream",
     "text": [
      "0.813273340832396\n"
     ]
    },
    {
     "name": "stderr",
     "output_type": "stream",
     "text": [
      " 55%|██████████████████████████████████████████████████                                         | 8110/14755 [03:28<02:19, 47.69it/s]"
     ]
    },
    {
     "name": "stdout",
     "output_type": "stream",
     "text": [
      "0.8133563757560794\n"
     ]
    },
    {
     "name": "stderr",
     "output_type": "stream",
     "text": [
      " 56%|██████████████████████████████████████████████████▌                                        | 8208/14755 [03:30<02:15, 48.18it/s]"
     ]
    },
    {
     "name": "stdout",
     "output_type": "stream",
     "text": [
      "0.813681258383124\n"
     ]
    },
    {
     "name": "stderr",
     "output_type": "stream",
     "text": [
      " 56%|███████████████████████████████████████████████████▏                                       | 8306/14755 [03:32<02:40, 40.19it/s]"
     ]
    },
    {
     "name": "stdout",
     "output_type": "stream",
     "text": [
      "0.8139983134562101\n"
     ]
    },
    {
     "name": "stderr",
     "output_type": "stream",
     "text": [
      " 57%|███████████████████████████████████████████████████▊                                       | 8405/14755 [03:35<02:50, 37.24it/s]"
     ]
    },
    {
     "name": "stdout",
     "output_type": "stream",
     "text": [
      "0.8139507201523628\n"
     ]
    },
    {
     "name": "stderr",
     "output_type": "stream",
     "text": [
      " 58%|████████████████████████████████████████████████████▍                                      | 8507/14755 [03:37<02:30, 41.47it/s]"
     ]
    },
    {
     "name": "stdout",
     "output_type": "stream",
     "text": [
      "0.8141395129984708\n"
     ]
    },
    {
     "name": "stderr",
     "output_type": "stream",
     "text": [
      " 58%|█████████████████████████████████████████████████████                                      | 8603/14755 [03:40<02:54, 35.33it/s]"
     ]
    },
    {
     "name": "stdout",
     "output_type": "stream",
     "text": [
      "0.8138588536216719\n"
     ]
    },
    {
     "name": "stderr",
     "output_type": "stream",
     "text": [
      " 59%|█████████████████████████████████████████████████████▋                                     | 8704/14755 [03:43<02:52, 35.08it/s]"
     ]
    },
    {
     "name": "stdout",
     "output_type": "stream",
     "text": [
      "0.8146190093092748\n"
     ]
    },
    {
     "name": "stderr",
     "output_type": "stream",
     "text": [
      " 60%|██████████████████████████████████████████████████████▎                                    | 8805/14755 [03:45<02:30, 39.64it/s]"
     ]
    },
    {
     "name": "stdout",
     "output_type": "stream",
     "text": [
      "0.8135439154641518\n"
     ]
    },
    {
     "name": "stderr",
     "output_type": "stream",
     "text": [
      " 60%|██████████████████████████████████████████████████████▉                                    | 8906/14755 [03:48<02:17, 42.61it/s]"
     ]
    },
    {
     "name": "stdout",
     "output_type": "stream",
     "text": [
      "0.8129423660262892\n"
     ]
    },
    {
     "name": "stderr",
     "output_type": "stream",
     "text": [
      " 61%|███████████████████████████████████████████████████████▌                                   | 9006/14755 [03:50<02:24, 39.83it/s]"
     ]
    },
    {
     "name": "stdout",
     "output_type": "stream",
     "text": [
      "0.8119097878013554\n"
     ]
    },
    {
     "name": "stderr",
     "output_type": "stream",
     "text": [
      " 62%|████████████████████████████████████████████████████████▏                                  | 9108/14755 [03:53<02:29, 37.72it/s]"
     ]
    },
    {
     "name": "stdout",
     "output_type": "stream",
     "text": [
      "0.8126579496758598\n"
     ]
    },
    {
     "name": "stderr",
     "output_type": "stream",
     "text": [
      " 62%|████████████████████████████████████████████████████████▊                                  | 9206/14755 [03:55<02:37, 35.29it/s]"
     ]
    },
    {
     "name": "stdout",
     "output_type": "stream",
     "text": [
      "0.8121943267036191\n"
     ]
    },
    {
     "name": "stderr",
     "output_type": "stream",
     "text": [
      " 63%|█████████████████████████████████████████████████████████▍                                 | 9308/14755 [03:58<02:12, 41.13it/s]"
     ]
    },
    {
     "name": "stdout",
     "output_type": "stream",
     "text": [
      "0.8118481883668422\n"
     ]
    },
    {
     "name": "stderr",
     "output_type": "stream",
     "text": [
      " 64%|██████████████████████████████████████████████████████████                                 | 9408/14755 [04:01<02:21, 37.92it/s]"
     ]
    },
    {
     "name": "stdout",
     "output_type": "stream",
     "text": [
      "0.811296670566961\n"
     ]
    },
    {
     "name": "stderr",
     "output_type": "stream",
     "text": [
      " 64%|██████████████████████████████████████████████████████████▋                                | 9507/14755 [04:03<02:16, 38.57it/s]"
     ]
    },
    {
     "name": "stdout",
     "output_type": "stream",
     "text": [
      "0.8107567624460583\n"
     ]
    },
    {
     "name": "stderr",
     "output_type": "stream",
     "text": [
      " 65%|███████████████████████████████████████████████████████████▏                               | 9604/14755 [04:06<02:34, 33.28it/s]"
     ]
    },
    {
     "name": "stdout",
     "output_type": "stream",
     "text": [
      "0.8106447245078637\n"
     ]
    },
    {
     "name": "stderr",
     "output_type": "stream",
     "text": [
      " 66%|███████████████████████████████████████████████████████████▊                               | 9705/14755 [04:08<02:13, 37.73it/s]"
     ]
    },
    {
     "name": "stdout",
     "output_type": "stream",
     "text": [
      "0.8109473250180393\n"
     ]
    },
    {
     "name": "stderr",
     "output_type": "stream",
     "text": [
      " 66%|████████████████████████████████████████████████████████████▍                              | 9808/14755 [04:11<02:09, 38.24it/s]"
     ]
    },
    {
     "name": "stdout",
     "output_type": "stream",
     "text": [
      "0.8108356290174472\n"
     ]
    },
    {
     "name": "stderr",
     "output_type": "stream",
     "text": [
      " 67%|█████████████████████████████████████████████████████████████                              | 9903/14755 [04:14<02:12, 36.50it/s]"
     ]
    },
    {
     "name": "stdout",
     "output_type": "stream",
     "text": [
      "0.8102211897788102\n"
     ]
    },
    {
     "name": "stderr",
     "output_type": "stream",
     "text": [
      " 68%|█████████████████████████████████████████████████████████████                             | 10008/14755 [04:17<02:08, 36.96it/s]"
     ]
    },
    {
     "name": "stdout",
     "output_type": "stream",
     "text": [
      "0.8095190480951905\n"
     ]
    },
    {
     "name": "stderr",
     "output_type": "stream",
     "text": [
      " 69%|█████████████████████████████████████████████████████████████▋                            | 10108/14755 [04:19<01:58, 39.11it/s]"
     ]
    },
    {
     "name": "stdout",
     "output_type": "stream",
     "text": [
      "0.8079398079398079\n"
     ]
    },
    {
     "name": "stderr",
     "output_type": "stream",
     "text": [
      " 69%|██████████████████████████████████████████████████████████████▎                           | 10206/14755 [04:22<02:09, 35.04it/s]"
     ]
    },
    {
     "name": "stdout",
     "output_type": "stream",
     "text": [
      "0.8079600039211842\n"
     ]
    },
    {
     "name": "stderr",
     "output_type": "stream",
     "text": [
      " 70%|██████████████████████████████████████████████████████████████▊                           | 10306/14755 [04:25<01:57, 37.78it/s]"
     ]
    },
    {
     "name": "stdout",
     "output_type": "stream",
     "text": [
      "0.8080768857392486\n"
     ]
    },
    {
     "name": "stderr",
     "output_type": "stream",
     "text": [
      " 71%|███████████████████████████████████████████████████████████████▍                          | 10405/14755 [04:27<02:01, 35.93it/s]"
     ]
    },
    {
     "name": "stdout",
     "output_type": "stream",
     "text": [
      "0.8072300740313432\n"
     ]
    },
    {
     "name": "stderr",
     "output_type": "stream",
     "text": [
      " 71%|████████████████████████████████████████████████████████████████                          | 10509/14755 [04:30<01:52, 37.67it/s]"
     ]
    },
    {
     "name": "stdout",
     "output_type": "stream",
     "text": [
      "0.8074469098181125\n"
     ]
    },
    {
     "name": "stderr",
     "output_type": "stream",
     "text": [
      " 72%|████████████████████████████████████████████████████████████████▋                         | 10605/14755 [04:33<02:08, 32.30it/s]"
     ]
    },
    {
     "name": "stdout",
     "output_type": "stream",
     "text": [
      "0.8071880011319686\n"
     ]
    },
    {
     "name": "stderr",
     "output_type": "stream",
     "text": [
      " 73%|█████████████████████████████████████████████████████████████████▎                        | 10704/14755 [04:36<01:56, 34.89it/s]"
     ]
    },
    {
     "name": "stdout",
     "output_type": "stream",
     "text": [
      "0.8074011774600505\n"
     ]
    },
    {
     "name": "stderr",
     "output_type": "stream",
     "text": [
      " 73%|█████████████████████████████████████████████████████████████████▉                        | 10806/14755 [04:39<01:50, 35.86it/s]"
     ]
    },
    {
     "name": "stdout",
     "output_type": "stream",
     "text": [
      "0.8069623183038608\n"
     ]
    },
    {
     "name": "stderr",
     "output_type": "stream",
     "text": [
      " 74%|██████████████████████████████████████████████████████████████████▌                       | 10908/14755 [04:41<01:34, 40.68it/s]"
     ]
    },
    {
     "name": "stdout",
     "output_type": "stream",
     "text": [
      "0.8074488579029447\n"
     ]
    },
    {
     "name": "stderr",
     "output_type": "stream",
     "text": [
      " 75%|███████████████████████████████████████████████████████████████████▏                      | 11007/14755 [04:44<01:45, 35.56it/s]"
     ]
    },
    {
     "name": "stdout",
     "output_type": "stream",
     "text": [
      "0.808199254613217\n"
     ]
    },
    {
     "name": "stderr",
     "output_type": "stream",
     "text": [
      " 75%|███████████████████████████████████████████████████████████████████▋                      | 11107/14755 [04:47<01:42, 35.64it/s]"
     ]
    },
    {
     "name": "stdout",
     "output_type": "stream",
     "text": [
      "0.807314656337267\n"
     ]
    },
    {
     "name": "stderr",
     "output_type": "stream",
     "text": [
      " 76%|████████████████████████████████████████████████████████████████████▎                     | 11205/14755 [04:50<01:35, 37.37it/s]"
     ]
    },
    {
     "name": "stdout",
     "output_type": "stream",
     "text": [
      "0.8075171859655388\n"
     ]
    },
    {
     "name": "stderr",
     "output_type": "stream",
     "text": [
      " 77%|████████████████████████████████████████████████████████████████████▉                     | 11305/14755 [04:52<01:34, 36.65it/s]"
     ]
    },
    {
     "name": "stdout",
     "output_type": "stream",
     "text": [
      "0.8073621803380232\n"
     ]
    },
    {
     "name": "stderr",
     "output_type": "stream",
     "text": [
      " 77%|█████████████████████████████████████████████████████████████████████▌                    | 11406/14755 [04:55<01:27, 38.14it/s]"
     ]
    },
    {
     "name": "stdout",
     "output_type": "stream",
     "text": [
      "0.8073853170774493\n"
     ]
    },
    {
     "name": "stderr",
     "output_type": "stream",
     "text": [
      " 78%|██████████████████████████████████████████████████████████████████████▏                   | 11509/14755 [04:57<01:21, 39.65it/s]"
     ]
    },
    {
     "name": "stdout",
     "output_type": "stream",
     "text": [
      "0.8075819493957047\n"
     ]
    },
    {
     "name": "stderr",
     "output_type": "stream",
     "text": [
      " 79%|██████████████████████████████████████████████████████████████████████▊                   | 11609/14755 [05:00<01:17, 40.51it/s]"
     ]
    },
    {
     "name": "stdout",
     "output_type": "stream",
     "text": [
      "0.8079475907249375\n"
     ]
    },
    {
     "name": "stderr",
     "output_type": "stream",
     "text": [
      " 79%|███████████████████████████████████████████████████████████████████████▍                  | 11709/14755 [05:02<01:11, 42.59it/s]"
     ]
    },
    {
     "name": "stdout",
     "output_type": "stream",
     "text": [
      "0.8087342962139988\n"
     ]
    },
    {
     "name": "stderr",
     "output_type": "stream",
     "text": [
      " 80%|████████████████████████████████████████████████████████████████████████                  | 11804/14755 [05:04<01:04, 46.08it/s]"
     ]
    },
    {
     "name": "stdout",
     "output_type": "stream",
     "text": [
      "0.8080671129565291\n"
     ]
    },
    {
     "name": "stderr",
     "output_type": "stream",
     "text": [
      " 81%|████████████████████████████████████████████████████████████████████████▋                 | 11909/14755 [05:07<01:04, 44.21it/s]"
     ]
    },
    {
     "name": "stdout",
     "output_type": "stream",
     "text": [
      "0.8080833543399715\n"
     ]
    },
    {
     "name": "stderr",
     "output_type": "stream",
     "text": [
      " 81%|█████████████████████████████████████████████████████████████████████████▏                | 12005/14755 [05:09<01:08, 40.30it/s]"
     ]
    },
    {
     "name": "stdout",
     "output_type": "stream",
     "text": [
      "0.808515957003583\n"
     ]
    },
    {
     "name": "stderr",
     "output_type": "stream",
     "text": [
      " 82%|█████████████████████████████████████████████████████████████████████████▊                | 12106/14755 [05:12<01:06, 39.74it/s]"
     ]
    },
    {
     "name": "stdout",
     "output_type": "stream",
     "text": [
      "0.8094372365920172\n"
     ]
    },
    {
     "name": "stderr",
     "output_type": "stream",
     "text": [
      " 83%|██████████████████████████████████████████████████████████████████████████▍               | 12207/14755 [05:14<01:00, 42.46it/s]"
     ]
    },
    {
     "name": "stdout",
     "output_type": "stream",
     "text": [
      "0.809195967543644\n"
     ]
    },
    {
     "name": "stderr",
     "output_type": "stream",
     "text": [
      " 83%|███████████████████████████████████████████████████████████████████████████               | 12307/14755 [05:17<00:57, 42.58it/s]"
     ]
    },
    {
     "name": "stdout",
     "output_type": "stream",
     "text": [
      "0.8087960328428583\n"
     ]
    },
    {
     "name": "stderr",
     "output_type": "stream",
     "text": [
      " 84%|███████████████████████████████████████████████████████████████████████████▋              | 12406/14755 [05:19<01:00, 39.06it/s]"
     ]
    },
    {
     "name": "stdout",
     "output_type": "stream",
     "text": [
      "0.809370212079671\n"
     ]
    },
    {
     "name": "stderr",
     "output_type": "stream",
     "text": [
      " 85%|████████████████████████████████████████████████████████████████████████████▎             | 12508/14755 [05:22<01:00, 37.12it/s]"
     ]
    },
    {
     "name": "stdout",
     "output_type": "stream",
     "text": [
      "0.8098552115830734\n"
     ]
    },
    {
     "name": "stderr",
     "output_type": "stream",
     "text": [
      " 85%|████████████████████████████████████████████████████████████████████████████▉             | 12606/14755 [05:25<01:00, 35.52it/s]"
     ]
    },
    {
     "name": "stdout",
     "output_type": "stream",
     "text": [
      "0.8095389254821046\n"
     ]
    },
    {
     "name": "stderr",
     "output_type": "stream",
     "text": [
      " 86%|█████████████████████████████████████████████████████████████████████████████▌            | 12706/14755 [05:28<01:01, 33.12it/s]"
     ]
    },
    {
     "name": "stdout",
     "output_type": "stream",
     "text": [
      "0.8094638217463191\n"
     ]
    },
    {
     "name": "stderr",
     "output_type": "stream",
     "text": [
      " 87%|██████████████████████████████████████████████████████████████████████████████            | 12806/14755 [05:30<00:56, 34.22it/s]"
     ]
    },
    {
     "name": "stdout",
     "output_type": "stream",
     "text": [
      "0.8090774158268885\n"
     ]
    },
    {
     "name": "stderr",
     "output_type": "stream",
     "text": [
      " 87%|██████████████████████████████████████████████████████████████████████████████▋           | 12906/14755 [05:33<00:57, 32.03it/s]"
     ]
    },
    {
     "name": "stdout",
     "output_type": "stream",
     "text": [
      "0.8088520269746531\n"
     ]
    },
    {
     "name": "stderr",
     "output_type": "stream",
     "text": [
      " 88%|███████████████████████████████████████████████████████████████████████████████▎          | 13006/14755 [05:36<00:52, 33.26it/s]"
     ]
    },
    {
     "name": "stdout",
     "output_type": "stream",
     "text": [
      "0.8094761941389124\n"
     ]
    },
    {
     "name": "stderr",
     "output_type": "stream",
     "text": [
      " 89%|███████████████████████████████████████████████████████████████████████████████▉          | 13108/14755 [05:39<00:44, 36.62it/s]"
     ]
    },
    {
     "name": "stdout",
     "output_type": "stream",
     "text": [
      "0.8102434928631402\n"
     ]
    },
    {
     "name": "stderr",
     "output_type": "stream",
     "text": [
      " 89%|████████████████████████████████████████████████████████████████████████████████▌         | 13204/14755 [05:42<00:43, 35.96it/s]"
     ]
    },
    {
     "name": "stdout",
     "output_type": "stream",
     "text": [
      "0.8105446557079009\n"
     ]
    },
    {
     "name": "stderr",
     "output_type": "stream",
     "text": [
      " 90%|█████████████████████████████████████████████████████████████████████████████████▏        | 13308/14755 [05:45<00:36, 39.95it/s]"
     ]
    },
    {
     "name": "stdout",
     "output_type": "stream",
     "text": [
      "0.8110668370799188\n"
     ]
    },
    {
     "name": "stderr",
     "output_type": "stream",
     "text": [
      " 91%|█████████████████████████████████████████████████████████████████████████████████▊        | 13408/14755 [05:48<00:34, 39.49it/s]"
     ]
    },
    {
     "name": "stdout",
     "output_type": "stream",
     "text": [
      "0.8115066039847773\n"
     ]
    },
    {
     "name": "stderr",
     "output_type": "stream",
     "text": [
      " 92%|██████████████████████████████████████████████████████████████████████████████████▍       | 13505/14755 [05:50<00:35, 34.83it/s]"
     ]
    },
    {
     "name": "stdout",
     "output_type": "stream",
     "text": [
      "0.8120879934819643\n"
     ]
    },
    {
     "name": "stderr",
     "output_type": "stream",
     "text": [
      " 92%|██████████████████████████████████████████████████████████████████████████████████▉       | 13605/14755 [05:53<00:30, 37.80it/s]"
     ]
    },
    {
     "name": "stdout",
     "output_type": "stream",
     "text": [
      "0.8122196897286964\n"
     ]
    },
    {
     "name": "stderr",
     "output_type": "stream",
     "text": [
      " 93%|███████████████████████████████████████████████████████████████████████████████████▌      | 13706/14755 [05:56<00:28, 36.93it/s]"
     ]
    },
    {
     "name": "stdout",
     "output_type": "stream",
     "text": [
      "0.8124954382891759\n"
     ]
    },
    {
     "name": "stderr",
     "output_type": "stream",
     "text": [
      " 94%|████████████████████████████████████████████████████████████████████████████████████▏     | 13806/14755 [05:59<00:27, 35.03it/s]"
     ]
    },
    {
     "name": "stdout",
     "output_type": "stream",
     "text": [
      "0.8127671907832765\n"
     ]
    },
    {
     "name": "stderr",
     "output_type": "stream",
     "text": [
      " 94%|████████████████████████████████████████████████████████████████████████████████████▊     | 13906/14755 [06:02<00:25, 33.79it/s]"
     ]
    },
    {
     "name": "stdout",
     "output_type": "stream",
     "text": [
      "0.8124595352852313\n"
     ]
    },
    {
     "name": "stderr",
     "output_type": "stream",
     "text": [
      " 95%|█████████████████████████████████████████████████████████████████████████████████████▍    | 14006/14755 [06:04<00:22, 33.34it/s]"
     ]
    },
    {
     "name": "stdout",
     "output_type": "stream",
     "text": [
      "0.811799157203057\n"
     ]
    },
    {
     "name": "stderr",
     "output_type": "stream",
     "text": [
      " 96%|██████████████████████████████████████████████████████████████████████████████████████    | 14104/14755 [06:07<00:17, 37.49it/s]"
     ]
    },
    {
     "name": "stdout",
     "output_type": "stream",
     "text": [
      "0.8117863981277924\n"
     ]
    },
    {
     "name": "stderr",
     "output_type": "stream",
     "text": [
      " 96%|██████████████████████████████████████████████████████████████████████████████████████▋   | 14208/14755 [06:10<00:15, 35.64it/s]"
     ]
    },
    {
     "name": "stdout",
     "output_type": "stream",
     "text": [
      "0.8118442363213858\n"
     ]
    },
    {
     "name": "stderr",
     "output_type": "stream",
     "text": [
      " 97%|███████████████████████████████████████████████████████████████████████████████████████▏  | 14304/14755 [06:13<00:12, 35.23it/s]"
     ]
    },
    {
     "name": "stdout",
     "output_type": "stream",
     "text": [
      "0.8119711908258164\n"
     ]
    },
    {
     "name": "stderr",
     "output_type": "stream",
     "text": [
      " 98%|███████████████████████████████████████████████████████████████████████████████████████▊  | 14406/14755 [06:15<00:09, 37.59it/s]"
     ]
    },
    {
     "name": "stdout",
     "output_type": "stream",
     "text": [
      "0.8117491840844386\n"
     ]
    },
    {
     "name": "stderr",
     "output_type": "stream",
     "text": [
      " 98%|████████████████████████████████████████████████████████████████████████████████████████▍ | 14507/14755 [06:18<00:06, 36.24it/s]"
     ]
    },
    {
     "name": "stdout",
     "output_type": "stream",
     "text": [
      "0.8122888076684367\n"
     ]
    },
    {
     "name": "stderr",
     "output_type": "stream",
     "text": [
      " 99%|█████████████████████████████████████████████████████████████████████████████████████████ | 14607/14755 [06:21<00:04, 36.76it/s]"
     ]
    },
    {
     "name": "stdout",
     "output_type": "stream",
     "text": [
      "0.8122731319772618\n"
     ]
    },
    {
     "name": "stderr",
     "output_type": "stream",
     "text": [
      "100%|█████████████████████████████████████████████████████████████████████████████████████████▋| 14707/14755 [06:24<00:01, 35.62it/s]"
     ]
    },
    {
     "name": "stdout",
     "output_type": "stream",
     "text": [
      "0.8123256921297871\n"
     ]
    },
    {
     "name": "stderr",
     "output_type": "stream",
     "text": [
      "100%|██████████████████████████████████████████████████████████████████████████████████████████| 14755/14755 [06:25<00:00, 38.24it/s]\n"
     ]
    }
   ],
   "source": [
    "import torch\n",
    "from tqdm import trange\n",
    "num_correct = 0.\n",
    "num_total = 0.\n",
    "model = model.cuda()\n",
    "model.eval()\n",
    "with torch.no_grad():\n",
    "    for i in trange(len(train_dataset)):\n",
    "        sequences = _get_text(train_dict_data[i], 'summary')\n",
    "        input_ids = tokenizer(sequences, truncation=True, return_tensors='pt')['input_ids']\n",
    "        # with torch.cuda.amp.autocast(enabled=True, dtype=torch.bfloat16):        \n",
    "        outputs = model(input_ids.cuda())\n",
    "        label = train_dict_data[i]['question4']\n",
    "        pred = torch.argmax(outputs.logits, dim=-1)\n",
    "        if pred == label:\n",
    "            num_correct +=1\n",
    "        num_total +=1\n",
    "\n",
    "        if i % 100 == 0:\n",
    "            print(num_correct/num_total)\n",
    "        rewards = outputs.logits[:, 1] - outputs.logits[:, 0]\n",
    "        if torch.isnan(rewards).any() or torch.isinf(rewards).any():\n",
    "            print(rewards)"
   ]
  },
  {
   "cell_type": "code",
   "execution_count": 19,
   "metadata": {},
   "outputs": [
    {
     "data": {
      "text/plain": [
       "tensor([[ 7255,    19,    46,  8033,    24,  8788,     3,     9,  2491,     6,\n",
       "             3, 13804,    28,    46,  3785,    24,   795,   856,  2625,     5,\n",
       "          8733,     3,     9,  1773,    24, 18056,   743,     7,     8,  1690,\n",
       "             5,  1713, 30345, 21035,    10,  6939,  2206,     3,     9,    80,\n",
       "            18,  5277,  1433,  9251,    13,    48,   442,     5,  1713, 30345,\n",
       "            86,  2562,    10,   938, 13197,    71,  3972, 31385, 25688,     6,\n",
       "          9938,  3529,    37,  7605,    56,   810,     8,  1075, 15328,    11,\n",
       "         22923, 14219,   577,    16,     3,     9,  2839,  3298,     5,   299,\n",
       "             8,  8565,    16,  2342,     3,     9,   161,   179,   408,    21,\n",
       "             8,   628,  6696,    31,     7, 12533,   291,  5009,   598,   165,\n",
       "           792,  1487,    56,   230,   420,   305,  2394,    51, 10186,    41,\n",
       "         19853,  2560,    51,   137,  8541,  2315,    13,     8,  1611,  5844,\n",
       "          7038,    33, 12718,   713,    24,  4030,  2864,    56,  2156, 19138,\n",
       "           331,     5,   374,  8791,     7,    12,     8,   507,    18,    29,\n",
       "           257, 15454,    48,   471,  4307,     8,  7469,    13,     3,     9,\n",
       "          1132,    24, 14841,     8,  2268,  5217,    13, 23613,     5,   328,\n",
       "            92,  1943,     3,     9,   964,  1569,    45,     8,  4290,   573,\n",
       "            24,  4030,  2864,   133,   103, 11200,    53,   585,     5,    96,\n",
       "           634, 11729,  2086,  5899,     8, 18101,    13,     8,  2547,  4193,\n",
       "           976,   243,   707, 25963,    49, 24149,    23,   122,     6,  1122,\n",
       "             9,    31,     7,  2090,    13,  4030, 12556,     5,    96,  3713,\n",
       "             3,    60,    18, 30511,     8,   306,  4290,   701,    13,     8,\n",
       "          4030,  2864,  2253,     3,    18,    24,   132,    33,   775,  8953,\n",
       "            49,  4044,     7,   344,    66,     8,  7778,    11,    34,   656,\n",
       "           150,  1254,    12,  2036,   136,    13,   135,     5,    37,  1476,\n",
       "            19,  4881,    24,    66,    65,   118,   612,    12,  1535,     8,\n",
       "          2253,  7233,    16,     8,     3,    31, 11290,     7,    44,  6929,\n",
       "            31,    84,    33,    44,     8,   798,    21,    15,     7,    15,\n",
       "            35,   976,     3,    88,  1219,  9938,  3529,     5,  4030,  2864,\n",
       "            19,    80,    13,  1122,     9,    31,     7,  4382,  4030, 15762,\n",
       "             7,     3,    18,     3,     9,   939,    13,   628,  6696,    24,\n",
       "            56,   103,  3058,  2056,    16,     3, 13134,   331,    30,   807,\n",
       "            13, 13840,  3262,  2410,     5,  5245, 14004,    43,    78,   623,\n",
       "          2767,   139, 15607,     6,  7646,  8562,   126,   251,    30, 18076,\n",
       "             6,     3,  9618,     3,   867,  1189,     6,  4484,  9576,    11,\n",
       "          5431,  5394,    77,   485,     5,  4030,  2864,    56,   810,   149,\n",
       "         15328,    11, 15726,  4099,     7,    41, 13536, 14219,    61,   607,\n",
       "             6, 15824,    11,  2603,    69,  3298,     6,     8,  1969,    11,\n",
       "           799,   463,     5, 21166,     7,   497,  1103, 15853,    16,   224,\n",
       "           844, 20215, 26395,    70,  1418,    12,  7555,   647,   483,     5,\n",
       "         13936, 10549,    13,  3126,    43,   315,  1951,     5,   242,   677,\n",
       "             6,   731,  3126,    54,   199,  1633,     8,  4345,   298,   306,\n",
       "          3126,    54,  1810,    38,     3,     9, 10934,     5,     3, 26985,\n",
       "             8,  2329,  5009,    30,  4030,  2864,    12,   129,    44,    48,\n",
       "           251,    65,  9193,  2033, 19574,     6,   983,     5,  5923,  8131,\n",
       "             6,   282,    17, 11879,    18,   371,  5219,     6,    65,   141,\n",
       "             3,     9,    12,    52,  4055,    97, 15315,    44,     3,     9,\n",
       "           408,    24,    56, 28624,    63,   161,    16,     8, 10019,    13,\n",
       "           628,     5,    71,  4431,     3,    60,    18,  1018, 26703,    13,\n",
       "             8, 12533,   291,    65,   974,  4019,    41, 22012,    51, 10186,\n",
       "            61,    12,     8, 16037,   792,  2253,   583,     5,    94,    65,\n",
       "            92, 16124,     8,  2253,    31,     7, 23093,  3289,   833,    12,\n",
       "          1421,     3,    18,   192,   203,   865,   145,  1100, 10014,     5,\n",
       "         21508,    15,    26,    81, 11336,     6,  1144,   538, 24696,     7,\n",
       "           141,  6709,     3,     9,  1132,    13,     8,   516,    31,     7,\n",
       "          2637,     5,    37, 12533,   291,    56,  1472, 13468,     7,    13,\n",
       "         31728,   659,   323,   139,     8,  4643,     5,  1029,     8,   194,\n",
       "            48,   659,    19, 20193,   223,    12,     8,   628,  6696,     6,\n",
       "          7004,    54,   918,    95,     3,     9,  1554,    13,   213,    16,\n",
       "             8,  4643,   315,  3126,  1308,    11, 15726,  4099,     7, 14989,\n",
       "             5,     3, 28257,    28,     8,   331,    45,   386,   119,  7778,\n",
       "            30,  1976,     6,    34,   225,   258,    36,   487,    12,   161,\n",
       "            91,     8, 12418,    21,     8,   827,  1487,    13,     8,  4030,\n",
       "             5,    96,   634,  1476,    47,  1380,    12,   320,   139,     3,\n",
       "             9,  1055,    20,    18,     7, 22375,    13,     8,  2253,     6,\n",
       "            68,    34,    47,     8,   964,   903,    13,    66,     8,  7004,\n",
       "            24,     8, 20974,  4030,  2864,    56,  2156,   639,    45,     8,\n",
       "          2711,    13,    66,     8,  7778,   976,   707, 24149,    23,   122,\n",
       "           243,     5,  1740,    65,   780,    12,  3971,     3,     9,   628,\n",
       "         12533,   291,  2253,    11,    78,  2421,    48,  2980,    19,   894,\n",
       "            38,    46,   359,   748,  1288,    21,  1122,     9,     5,  4030,\n",
       "         12556,    19,  1083,     8,  3193,    31,     7,  2630,  2486,     6,\n",
       "          9085,     3,     9,  8486,    13,   165,   792,  1487,    42,   505,\n",
       "          3628,    51, 10186,    16,  8088,    37,   996,   583,    13,  4030,\n",
       "          2864,    56,   174,    12,    36,     3, 19402,     6,    68,   707,\n",
       "         24149,    23,   122,   243,     8, 17174,    13,    66,   306,    18,\n",
       "         18485, 14004,    12,  7560,   147,    97,  3679,     8,  1151, 15700,\n",
       "           228,    36,  3030,    16,    46,  2950,   194,     5,  2792,    66,\n",
       "          1122,     9, 14004,     6,  4030,  2864,    56,    36,     3,     9,\n",
       "          2131,    18, 11351,   152,  1941,     5,   611,     6,     8,  2253,\n",
       "            65,  1090, 11978,    21,     8,  1270,     5,    37,   711,  1809,\n",
       "            13,     8,   628,  6696,    56,    36,  1192,    16,  7190,    41,\n",
       "           188,     7,    17, 11879,    18, 15787,    44,  9316,   545,   201,\n",
       "            38,    56,   192,    13,   165,  7778,     6,    44,     3,  4256,\n",
       "         12733,    41,  9105,   173,    26,  2590,    61,    11,     3, 25542,\n",
       "          1531,  3937,    41, 22674,    15,   137,    37,  4509,  5009,    30,\n",
       "          4030,  2864,    19,   271,  8794,    57,  3411,     5, 13197,     5,\n",
       "           188,  3972,    18, 21342,   448,  9978,  1741,   115,   115,    75,\n",
       "             5,   509,     5,  1598,  1713, 30345, 16361,    10,  1740,    31,\n",
       "             7, 17091,  4030,  2864,  2253,    12,  2331,    91,     3,     9,\n",
       "          6124, 17695,   323,     8,  4030,    31,     7,  4643,    65,   118,\n",
       "           787,     8,   281,  2177,     5,     1]])"
      ]
     },
     "execution_count": 19,
     "metadata": {},
     "output_type": "execute_result"
    }
   ],
   "source": [
    "input_ids"
   ]
  },
  {
   "cell_type": "code",
   "execution_count": null,
   "metadata": {},
   "outputs": [],
   "source": [
    "tokenizer.pad_token_id is None"
   ]
  },
  {
   "cell_type": "code",
   "execution_count": 20,
   "metadata": {},
   "outputs": [
    {
     "ename": "NameError",
     "evalue": "name 'data_module' is not defined",
     "output_type": "error",
     "traceback": [
      "\u001b[0;31m---------------------------------------------------------------------------\u001b[0m",
      "\u001b[0;31mNameError\u001b[0m                                 Traceback (most recent call last)",
      "Cell \u001b[0;32mIn[20], line 8\u001b[0m\n\u001b[1;32m      6\u001b[0m \u001b[38;5;28;01mwith\u001b[39;00m torch\u001b[38;5;241m.\u001b[39mno_grad():\n\u001b[1;32m      7\u001b[0m     model\u001b[38;5;241m.\u001b[39meval()\n\u001b[0;32m----> 8\u001b[0m     \u001b[38;5;28;01mfor\u001b[39;00m i \u001b[38;5;129;01min\u001b[39;00m trange(\u001b[38;5;28mlen\u001b[39m(\u001b[43mdata_module\u001b[49m[\u001b[38;5;124m'\u001b[39m\u001b[38;5;124meval_dataset\u001b[39m\u001b[38;5;124m'\u001b[39m])):\n\u001b[1;32m      9\u001b[0m         sequences, words \u001b[38;5;241m=\u001b[39m _get_text_target_word_by_word(eval_dict_data[\u001b[38;5;241m4\u001b[39m], \u001b[38;5;124m'\u001b[39m\u001b[38;5;124msummary\u001b[39m\u001b[38;5;124m'\u001b[39m)\n\u001b[1;32m     10\u001b[0m         input_ids \u001b[38;5;241m=\u001b[39m tokenizer(sequences, truncation\u001b[38;5;241m=\u001b[39m\u001b[38;5;28;01mTrue\u001b[39;00m, return_tensors\u001b[38;5;241m=\u001b[39m\u001b[38;5;124m'\u001b[39m\u001b[38;5;124mpt\u001b[39m\u001b[38;5;124m'\u001b[39m)[\u001b[38;5;124m'\u001b[39m\u001b[38;5;124minput_ids\u001b[39m\u001b[38;5;124m'\u001b[39m]\n",
      "\u001b[0;31mNameError\u001b[0m: name 'data_module' is not defined"
     ]
    }
   ],
   "source": [
    "import torch\n",
    "from tqdm import trange\n",
    "num_correct = 0.\n",
    "num_total = 0.\n",
    "model = model.cuda()\n",
    "with torch.no_grad():\n",
    "    model.eval()\n",
    "    for i in trange(len(data_module['eval_dataset'])):\n",
    "        sequences, words = _get_text_target_word_by_word(eval_dict_data[4], 'summary')\n",
    "        input_ids = tokenizer(sequences, truncation=True, return_tensors='pt')['input_ids']\n",
    "        outputs = model(input_ids.cuda())\n",
    "        rewards = outputs.logits[:, 1] - outputs.logits[:, 0]\n",
    "        outputs = outputs.logits.softmax(dim=-1)\n",
    "        rewards_normalized = outputs[:, 1] - outputs[:, 0]\n",
    "        \n",
    "        x = np.arange(len(rewards_normalized))\n",
    "        plt.plot(x, rewards_normalized.cpu().numpy())\n",
    "\n",
    "        for i, word in enumerate(words):\n",
    "            plt.annotate(word, (x[i], rewards_normalized[i]))\n",
    "\n",
    "        plt.xlabel('t (time step)')\n",
    "        plt.ylabel('rewards normalized')\n",
    "        plt.title('reward model over partial sequences')\n",
    "        plt.show()\n",
    "        break"
   ]
  },
  {
   "cell_type": "code",
   "execution_count": null,
   "metadata": {},
   "outputs": [],
   "source": []
  },
  {
   "cell_type": "code",
   "execution_count": null,
   "metadata": {},
   "outputs": [],
   "source": [
    "import matplotlib.pyplot as plt\n",
    "import numpy as np\n",
    "\n",
    "x = np.arange(10)\n",
    "y = np.random.rand(10)\n",
    "words = ['A', 'B', 'C', 'D', 'E', 'F', 'G', 'H', 'I', 'J']\n",
    "\n",
    "plt.plot(x, y)\n",
    "\n",
    "for i, word in enumerate(words):\n",
    "    plt.annotate(word, (x[i], y[i]))\n",
    "\n",
    "plt.xlabel('x')\n",
    "plt.ylabel('y')\n",
    "plt.title('Line Plot with Labeled Points')\n",
    "plt.show()"
   ]
  },
  {
   "cell_type": "code",
   "execution_count": null,
   "metadata": {},
   "outputs": [],
   "source": []
  }
 ],
 "metadata": {
  "kernelspec": {
   "display_name": "Python 3 (ipykernel)",
   "language": "python",
   "name": "python3"
  },
  "language_info": {
   "codemirror_mode": {
    "name": "ipython",
    "version": 3
   },
   "file_extension": ".py",
   "mimetype": "text/x-python",
   "name": "python",
   "nbconvert_exporter": "python",
   "pygments_lexer": "ipython3",
   "version": "3.10.13"
  }
 },
 "nbformat": 4,
 "nbformat_minor": 4
}
